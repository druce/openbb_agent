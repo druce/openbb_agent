{
 "cells": [
  {
   "cell_type": "markdown",
   "id": "0003fc70-614a-45fe-824d-d95957d13b19",
   "metadata": {},
   "source": [
    "# Stock Market Question Answering Agent\n",
    "\n",
    "- Answer questions about individual stocks using (mostly) OpenBB functions\n",
    "- Uses the OpenAI tools functionality and the [wrappers provided by OpenBB](https://docs.openbb.co/platform/user_guides/llm_mode)\n",
    "- Define a set of tool functions\n",
    "- When prompting, give OpenAI the set of tools and their descriptions in the prompt and also in the structured JSON format\n",
    "- If OpenAI needs to run a function to respond to the prompt, it will provide the function signature and ask you to provide the return values before continuing\n",
    "- this needs very little custom code and leverages the openbb tools but doesn't currently work as well. would possibly convert to langchain and debug the full prompt.\n"
   ]
  },
  {
   "cell_type": "code",
   "execution_count": 1,
   "id": "20d61f1a-b6e0-4c72-9eee-5c3c84db5718",
   "metadata": {},
   "outputs": [],
   "source": [
    "import os\n",
    "import dotenv\n",
    "import warnings\n",
    "from datetime import datetime, timedelta\n",
    "\n",
    "import pandas as pd\n",
    "\n",
    "import IPython\n",
    "from IPython.display import HTML, Image, Markdown, display\n",
    "\n",
    "import requests\n",
    "import json\n",
    "\n",
    "import openbb\n",
    "from openbb import obb\n",
    "from openbb_core.app.model.obbject import OBBject\n",
    "\n",
    "import openai\n",
    "from openai import OpenAI\n",
    "\n",
    "from magentic import prompt_chain, FunctionCall, OpenaiChatModel\n",
    "\n",
    "# paid API for edgar filings\n",
    "import sec_api\n",
    "from sec_api import QueryApi, ExtractorApi\n",
    "\n",
    "# free API for edgar filing\n",
    "from sec_downloader import Downloader\n",
    "import sec_parser as sp\n",
    "\n",
    "dotenv.load_dotenv()\n",
    "\n",
    "# class to make a tool and utility functions\n",
    "from BB_agent_tool import BB_agent_tool, get_response, agent_query\n",
    "\n",
    "import pdb\n",
    "\n",
    "# turn off excessive warnings\n",
    "warnings.filterwarnings('ignore')\n"
   ]
  },
  {
   "cell_type": "code",
   "execution_count": 2,
   "id": "c31a6c57-1332-44df-bb86-2784cf909419",
   "metadata": {},
   "outputs": [
    {
     "name": "stdout",
     "output_type": "stream",
     "text": [
      "pandas         2.2.2\n",
      "obb            4.2.1\n",
      "openai         1.30.3\n"
     ]
    }
   ],
   "source": [
    "print(f'pandas         {pd.__version__}')\n",
    "print(f'obb            {obb.system.version}')\n",
    "print(f'openai         {openai.__version__}')\n"
   ]
  },
  {
   "cell_type": "markdown",
   "id": "7ad6849a-72da-4d7d-8ae6-5b9bae8c80e2",
   "metadata": {},
   "source": [
    "# Connect to OpenBB"
   ]
  },
  {
   "cell_type": "code",
   "execution_count": 3,
   "id": "aeda3328-5535-4a8c-ba87-40615511f4a3",
   "metadata": {},
   "outputs": [
    {
     "data": {
      "text/plain": [
       "OpenBB Platform v4.2.1\n",
       "\n",
       "Utilities:\n",
       "    /account\n",
       "    /user\n",
       "    /system\n",
       "    /coverage\n",
       "\n",
       "Routers:\n",
       "    /commodity\n",
       "    /crypto\n",
       "    /currency\n",
       "    /derivatives\n",
       "    /econometrics\n",
       "    /economy\n",
       "    /equity\n",
       "    /etf\n",
       "    /fixedincome\n",
       "    /index\n",
       "    /news\n",
       "    /quantitative\n",
       "    /regulators\n",
       "    /technical\n",
       "\n",
       "Extensions:\n",
       "    - commodity@1.1.1\n",
       "    - crypto@1.2.1\n",
       "    - currency@1.2.1\n",
       "    - derivatives@1.2.1\n",
       "    - econometrics@1.2.1\n",
       "    - economy@1.2.1\n",
       "    - equity@1.2.1\n",
       "    - etf@1.2.1\n",
       "    - fixedincome@1.2.1\n",
       "    - index@1.2.1\n",
       "    - news@1.2.1\n",
       "    - quantitative@1.2.1\n",
       "    - regulators@1.2.1\n",
       "    - technical@1.2.1\n",
       "\n",
       "    - alpha_vantage@1.2.1\n",
       "    - benzinga@1.2.1\n",
       "    - biztoc@1.2.1\n",
       "    - cboe@1.2.1\n",
       "    - ecb@1.2.1\n",
       "    - econdb@1.1.1\n",
       "    - federal_reserve@1.2.1\n",
       "    - finra@1.2.1\n",
       "    - finviz@1.1.1\n",
       "    - fmp@1.2.1\n",
       "    - fred@1.2.1\n",
       "    - government_us@1.2.1\n",
       "    - intrinio@1.2.1\n",
       "    - nasdaq@1.2.1\n",
       "    - oecd@1.2.1\n",
       "    - polygon@1.2.1\n",
       "    - sec@1.2.1\n",
       "    - seeking_alpha@1.2.1\n",
       "    - stockgrid@1.2.1\n",
       "    - tiingo@1.2.1\n",
       "    - tmx@1.1.1\n",
       "    - tradier@1.1.1\n",
       "    - tradingeconomics@1.2.1\n",
       "    - wsj@1.2.1\n",
       "    - yfinance@1.2.1    "
      ]
     },
     "execution_count": 3,
     "metadata": {},
     "output_type": "execute_result"
    }
   ],
   "source": [
    "obb\n"
   ]
  },
  {
   "cell_type": "code",
   "execution_count": 4,
   "id": "f1d91d67-55a5-48fd-91ed-e4cdc5f03ec5",
   "metadata": {},
   "outputs": [],
   "source": [
    "# login with email and password\n",
    "obb.account.login(email=os.environ['OPENBB_USER'], password=os.environ['OPENBB_PW'], remember_me=True)\n"
   ]
  },
  {
   "cell_type": "code",
   "execution_count": 5,
   "id": "81222526-77e2-4996-a7a1-b79dca56586b",
   "metadata": {},
   "outputs": [
    {
     "data": {
      "text/plain": [
       "UserSettings\n",
       "\n",
       "id: 0665a898-bc50-7539-8000-26e72b18fdb1\n",
       "profile: {'hub_session': {'username': 'drucev', 'email': 'drucev@hotmail.com', 'primary_usage': 'personal', 'user_uuid': 'c866b4d2-c09b-4b13-abb7-a93f1ac3c2b7', 'token_type': 'bearer', 'access_token': SecretStr('**********')}}\n",
       "credentials: {'benzinga_api_key': None, 'polygon_api_key': SecretStr('**********'), 'tradingeconomics_api_key': None, 'intrinio_api_key': None, 'econdb_api_key': None, 'fred_api_key': SecretStr('**********'), 'fmp_api_key': SecretStr('**********'), 'tiingo_token': SecretStr('**********')}\n",
       "preferences: {'cache_directory': '/Users/drucev/OpenBBUserData/cache', 'chart_style': 'dark', 'data_directory': '/Users/drucev/OpenBBUserData', 'export_directory': '/Users/drucev/OpenBBUserData/exports', 'metadata': True, 'output_type': 'OBBject', 'plot_enable_pywry': True, 'plot_open_export': False, 'plot_pywry_height': 762, 'plot_pywry_width': 1400, 'request_timeout': 60, 'show_warnings': False, 'table_style': 'dark', 'user_styles_directory': '/Users/drucev/OpenBBUserData/styles/user'}\n",
       "defaults: {'routes': {}}"
      ]
     },
     "execution_count": 5,
     "metadata": {},
     "output_type": "execute_result"
    }
   ],
   "source": [
    "obb.user\n"
   ]
  },
  {
   "cell_type": "code",
   "execution_count": 6,
   "id": "bf8476a6-1106-4e5b-9efa-229547f11097",
   "metadata": {},
   "outputs": [
    {
     "data": {
      "text/plain": [
       "/account\n",
       "    login\n",
       "    logout\n",
       "    save\n",
       "    refresh\n",
       "    "
      ]
     },
     "execution_count": 6,
     "metadata": {},
     "output_type": "execute_result"
    }
   ],
   "source": [
    "obb.account\n"
   ]
  },
  {
   "cell_type": "code",
   "execution_count": 7,
   "id": "edfe7554-a603-4cd8-bea0-1a79882cfbd0",
   "metadata": {},
   "outputs": [],
   "source": [
    "# Change a credential - only need once, gets stored in openbb cloud\n",
    "# Change a credential - only need once, gets stored in openbb cloud\n",
    "# For this demo \n",
    "\n",
    "# obb.user.credentials.polygon_api_key = os.environ['POLYGON_API_KEY']\n",
    "# obb.user.credentials.alpha_vantage_api_key = os.environ['ALPHAVANTAGE_API_KEY']\n",
    "# obb.user.credentials.fred_api_key = os.environ['FRED_API_KEY']\n",
    "# obb.user.credentials.tiingo_token = os.environ['TIINGO_API_KEY']\n",
    "# obb.user.credentials.fmp_api_key = os.environ['FMP_API_KEY']\n",
    "# obb.user.credentials.biztoc_api_key = os.environ['BIZTOC_API_KEY']\n",
    "\n",
    "# Save account changes to the Hub\n",
    "# obb.account.save()\n",
    "\n",
    "# Refresh account with latest changes since login\n",
    "# obb.account.refresh()\n",
    "\n",
    "# Logout\n",
    "# obb.account.logout()\n"
   ]
  },
  {
   "cell_type": "code",
   "execution_count": 8,
   "id": "920317cd-0446-4c79-963b-c999083e5111",
   "metadata": {},
   "outputs": [
    {
     "data": {
      "text/html": [
       "<div>\n",
       "<style scoped>\n",
       "    .dataframe tbody tr th:only-of-type {\n",
       "        vertical-align: middle;\n",
       "    }\n",
       "\n",
       "    .dataframe tbody tr th {\n",
       "        vertical-align: top;\n",
       "    }\n",
       "\n",
       "    .dataframe thead th {\n",
       "        text-align: right;\n",
       "    }\n",
       "</style>\n",
       "<table border=\"1\" class=\"dataframe\">\n",
       "  <thead>\n",
       "    <tr style=\"text-align: right;\">\n",
       "      <th></th>\n",
       "      <th>symbol</th>\n",
       "      <th>name</th>\n",
       "      <th>cik</th>\n",
       "    </tr>\n",
       "  </thead>\n",
       "  <tbody>\n",
       "    <tr>\n",
       "      <th>0</th>\n",
       "      <td>MRK</td>\n",
       "      <td>Merck &amp; Co., Inc.</td>\n",
       "      <td>310158</td>\n",
       "    </tr>\n",
       "  </tbody>\n",
       "</table>\n",
       "</div>"
      ],
      "text/plain": [
       "  symbol               name     cik\n",
       "0    MRK  Merck & Co., Inc.  310158"
      ]
     },
     "execution_count": 8,
     "metadata": {},
     "output_type": "execute_result"
    }
   ],
   "source": [
    "obb.equity.search(\"Merck\", provider=\"sec\").to_df().head(3)\n"
   ]
  },
  {
   "cell_type": "code",
   "execution_count": 31,
   "id": "9f5d7165-664e-4bdd-81e0-f06463c6aaab",
   "metadata": {},
   "outputs": [],
   "source": [
    "symbol = \"MRK\"\n",
    "company = \"Merck\"\n"
   ]
  },
  {
   "cell_type": "code",
   "execution_count": 10,
   "id": "a8122ebf-b557-485f-90b0-ff23e0783a6e",
   "metadata": {},
   "outputs": [],
   "source": [
    "obj = obb.equity.price.quote(symbol)\n"
   ]
  },
  {
   "cell_type": "code",
   "execution_count": 11,
   "id": "da2e9d77-ad99-4162-b4a8-d975aa0e0986",
   "metadata": {},
   "outputs": [
    {
     "data": {
      "text/plain": [
       "OBBject\n",
       "\n",
       "id: 0665a899-b797-76ee-8000-915f6fe4cdef\n",
       "results: [{'symbol': 'MRK', 'asset_type': None, 'name': 'Merck & Co., Inc.', 'excha...\n",
       "provider: fmp\n",
       "warnings: None\n",
       "chart: None\n",
       "extra: {'metadata': {'arguments': {'provider_choices': {'provider': 'fmp'}, 'standa..."
      ]
     },
     "execution_count": 11,
     "metadata": {},
     "output_type": "execute_result"
    }
   ],
   "source": [
    "obj\n"
   ]
  },
  {
   "cell_type": "code",
   "execution_count": 12,
   "id": "b6d0e188-a4fc-4924-95ad-b1c980b6eaf8",
   "metadata": {},
   "outputs": [
    {
     "data": {
      "text/plain": [
       "[FMPEquityQuoteData(symbol=MRK, asset_type=None, name=Merck & Co., Inc., exchange=NYSE, bid=None, bid_size=None, bid_exchange=None, ask=None, ask_size=None, ask_exchange=None, quote_conditions=None, quote_indicators=None, sales_conditions=None, sequence_number=None, market_center=None, participant_timestamp=None, trf_timestamp=None, sip_timestamp=None, last_price=125.54, last_tick=None, last_size=None, last_timestamp=2024-05-31 20:00:02+00:00, open=125.13, high=126.61, low=124.55, close=None, volume=17763542, exchange_volume=None, prev_close=124.53, change=1.01, change_percent=0.008111, year_high=133.1, year_low=99.14, price_avg50=128.1684, price_avg200=115.7113, avg_volume=8372884, market_cap=317968967400.0, shares_outstanding=2532810000, eps=0.9, pe=139.49, earnings_announcement=2024-07-30 12:30:00+00:00)]"
      ]
     },
     "execution_count": 12,
     "metadata": {},
     "output_type": "execute_result"
    }
   ],
   "source": [
    "obj.results\n"
   ]
  },
  {
   "cell_type": "code",
   "execution_count": 13,
   "id": "90820eee-5f18-4b97-b133-28343c3b76f3",
   "metadata": {},
   "outputs": [
    {
     "data": {
      "text/plain": [
       "'{\"id\":\"0665a899-b797-76ee-8000-915f6fe4cdef\",\"results\":[{\"symbol\":\"MRK\",\"asset_type\":null,\"name\":\"Merck & Co., Inc.\",\"exchange\":\"NYSE\",\"bid\":null,\"bid_size\":null,\"bid_exchange\":null,\"ask\":null,\"ask_size\":null,\"ask_exchange\":null,\"quote_conditions\":null,\"quote_indicators\":null,\"sales_conditions\":null,\"sequence_number\":null,\"market_center\":null,\"participant_timestamp\":null,\"trf_timestamp\":null,\"sip_timestamp\":null,\"last_price\":125.54,\"last_tick\":null,\"last_size\":null,\"last_timestamp\":\"2024-05-31T20:00:02Z\",\"open\":125.13,\"high\":126.61,\"low\":124.55,\"close\":null,\"volume\":17763542,\"exchange_volume\":null,\"prev_close\":124.53,\"change\":1.01,\"change_percent\":0.008111,\"year_high\":133.1,\"year_low\":99.14,\"price_avg50\":128.1684,\"price_avg200\":115.7113,\"avg_volume\":8372884,\"market_cap\":317968967400.0,\"shares_outstanding\":2532810000,\"eps\":0.9,\"pe\":139.49,\"earnings_announcement\":\"2024-07-30T12:30:00Z\"}],\"provider\":\"fmp\",\"warnings\":null,\"chart\":null,\"extra\":{\"metadata\":{\"arguments\":{\"provider_choices\":{\"provider\":\"fmp\"},\"standard_params\":{\"symbol\":\"MRK\"},\"extra_params\":{}},\"duration\":161539250,\"route\":\"/equity/price/quote\",\"timestamp\":\"2024-05-31T22:38:19.314986\"}}}'"
      ]
     },
     "execution_count": 13,
     "metadata": {},
     "output_type": "execute_result"
    }
   ],
   "source": [
    "obj.json()"
   ]
  },
  {
   "cell_type": "code",
   "execution_count": 14,
   "id": "f7052541-943b-4fd6-933a-eb8e1e7084af",
   "metadata": {},
   "outputs": [
    {
     "data": {
      "text/plain": [
       "{'results': [{'symbol': 'MRK',\n",
       "   'asset_type': 'EQUITY',\n",
       "   'name': 'Merck & Co., Inc.',\n",
       "   'exchange': 'NYQ',\n",
       "   'bid': 125.58,\n",
       "   'bid_size': 1000,\n",
       "   'ask': 125.65,\n",
       "   'ask_size': 1800,\n",
       "   'last_price': 125.54,\n",
       "   'open': 125.13,\n",
       "   'high': 126.61,\n",
       "   'low': 124.55,\n",
       "   'volume': 17886698,\n",
       "   'prev_close': 124.53,\n",
       "   'year_high': 133.1,\n",
       "   'year_low': 99.14,\n",
       "   'ma_50d': 128.2022,\n",
       "   'ma_200d': 115.7957,\n",
       "   'volume_average': 8565420.0,\n",
       "   'volume_average_10d': 8656260.0,\n",
       "   'currency': 'USD'}],\n",
       " 'provider': 'yfinance',\n",
       " 'warnings': None,\n",
       " 'chart': None,\n",
       " 'extra': {'metadata': {'arguments': {'provider_choices': {'provider': 'yfinance'},\n",
       "    'standard_params': {'symbol': 'MRK'},\n",
       "    'extra_params': {'source': 'iex'}},\n",
       "   'duration': 574438458,\n",
       "   'route': '/equity/price/quote',\n",
       "   'timestamp': '2024-05-31T22:38:27.084921'}}}"
      ]
     },
     "execution_count": 14,
     "metadata": {},
     "output_type": "execute_result"
    }
   ],
   "source": [
    "# use REST API on server running locally\n",
    "# uvicorn openbb_core.api.rest_api:app --host 0.0.0.0 --port 8000 --reload\n",
    "# REST API documentation - http://127.0.0.1:8000/docs\n",
    "# openapi.json : http://127.0.0.1:8000/openapi.json\n",
    "\n",
    "# not turning on authentication\n",
    "# msg = \"some_user:some_pass\"\n",
    "# msg_bytes = msg.encode('ascii')\n",
    "# base64_bytes = base64.b64encode(msg_bytes)\n",
    "# base64_msg = base64_bytes.decode('ascii')\n",
    "\n",
    "url = f\"http://127.0.0.1:8000/api/v1/equity/price/quote?provider=yfinance&symbol={symbol}\"\n",
    "# headers = {\"accept\": \"application/json\", \"Authorization\": f\"Basic {base64_msg}\"}\n",
    "headers = {\"accept\": \"application/json\"}\n",
    "\n",
    "response = requests.get(url=url, headers=headers)\n",
    "\n",
    "response.json()\n"
   ]
  },
  {
   "cell_type": "code",
   "execution_count": 15,
   "id": "a2f4d73b-c652-4995-8f69-0e1541f9a8ac",
   "metadata": {},
   "outputs": [
    {
     "data": {
      "text/html": [
       "<div>\n",
       "<style scoped>\n",
       "    .dataframe tbody tr th:only-of-type {\n",
       "        vertical-align: middle;\n",
       "    }\n",
       "\n",
       "    .dataframe tbody tr th {\n",
       "        vertical-align: top;\n",
       "    }\n",
       "\n",
       "    .dataframe thead th {\n",
       "        text-align: right;\n",
       "    }\n",
       "</style>\n",
       "<table border=\"1\" class=\"dataframe\">\n",
       "  <thead>\n",
       "    <tr style=\"text-align: right;\">\n",
       "      <th></th>\n",
       "      <th>open</th>\n",
       "      <th>high</th>\n",
       "      <th>low</th>\n",
       "      <th>close</th>\n",
       "      <th>volume</th>\n",
       "      <th>vwap</th>\n",
       "      <th>transactions</th>\n",
       "    </tr>\n",
       "    <tr>\n",
       "      <th>date</th>\n",
       "      <th></th>\n",
       "      <th></th>\n",
       "      <th></th>\n",
       "      <th></th>\n",
       "      <th></th>\n",
       "      <th></th>\n",
       "      <th></th>\n",
       "    </tr>\n",
       "  </thead>\n",
       "  <tbody>\n",
       "    <tr>\n",
       "      <th>2023-05-31</th>\n",
       "      <td>108.47</td>\n",
       "      <td>111.15</td>\n",
       "      <td>108.470</td>\n",
       "      <td>110.41</td>\n",
       "      <td>14563536.0</td>\n",
       "      <td>110.3172</td>\n",
       "      <td>91481</td>\n",
       "    </tr>\n",
       "    <tr>\n",
       "      <th>2023-06-01</th>\n",
       "      <td>110.66</td>\n",
       "      <td>111.59</td>\n",
       "      <td>109.880</td>\n",
       "      <td>110.93</td>\n",
       "      <td>6960063.0</td>\n",
       "      <td>110.9360</td>\n",
       "      <td>76972</td>\n",
       "    </tr>\n",
       "    <tr>\n",
       "      <th>2023-06-02</th>\n",
       "      <td>111.11</td>\n",
       "      <td>112.73</td>\n",
       "      <td>110.720</td>\n",
       "      <td>112.52</td>\n",
       "      <td>5792792.0</td>\n",
       "      <td>112.1935</td>\n",
       "      <td>74396</td>\n",
       "    </tr>\n",
       "    <tr>\n",
       "      <th>2023-06-05</th>\n",
       "      <td>113.00</td>\n",
       "      <td>114.48</td>\n",
       "      <td>112.580</td>\n",
       "      <td>113.11</td>\n",
       "      <td>5692920.0</td>\n",
       "      <td>113.2613</td>\n",
       "      <td>76453</td>\n",
       "    </tr>\n",
       "    <tr>\n",
       "      <th>2023-06-06</th>\n",
       "      <td>113.55</td>\n",
       "      <td>113.72</td>\n",
       "      <td>109.280</td>\n",
       "      <td>110.01</td>\n",
       "      <td>6960217.0</td>\n",
       "      <td>110.5323</td>\n",
       "      <td>95257</td>\n",
       "    </tr>\n",
       "    <tr>\n",
       "      <th>...</th>\n",
       "      <td>...</td>\n",
       "      <td>...</td>\n",
       "      <td>...</td>\n",
       "      <td>...</td>\n",
       "      <td>...</td>\n",
       "      <td>...</td>\n",
       "      <td>...</td>\n",
       "    </tr>\n",
       "    <tr>\n",
       "      <th>2024-05-23</th>\n",
       "      <td>130.90</td>\n",
       "      <td>131.92</td>\n",
       "      <td>130.310</td>\n",
       "      <td>131.09</td>\n",
       "      <td>5416660.0</td>\n",
       "      <td>131.1242</td>\n",
       "      <td>70862</td>\n",
       "    </tr>\n",
       "    <tr>\n",
       "      <th>2024-05-24</th>\n",
       "      <td>131.45</td>\n",
       "      <td>131.45</td>\n",
       "      <td>129.160</td>\n",
       "      <td>129.49</td>\n",
       "      <td>5569920.0</td>\n",
       "      <td>129.7614</td>\n",
       "      <td>74137</td>\n",
       "    </tr>\n",
       "    <tr>\n",
       "      <th>2024-05-28</th>\n",
       "      <td>128.84</td>\n",
       "      <td>129.08</td>\n",
       "      <td>125.740</td>\n",
       "      <td>126.09</td>\n",
       "      <td>10151595.0</td>\n",
       "      <td>126.3212</td>\n",
       "      <td>114225</td>\n",
       "    </tr>\n",
       "    <tr>\n",
       "      <th>2024-05-29</th>\n",
       "      <td>126.14</td>\n",
       "      <td>126.45</td>\n",
       "      <td>125.275</td>\n",
       "      <td>125.90</td>\n",
       "      <td>8026173.0</td>\n",
       "      <td>125.8670</td>\n",
       "      <td>79564</td>\n",
       "    </tr>\n",
       "    <tr>\n",
       "      <th>2024-05-30</th>\n",
       "      <td>125.98</td>\n",
       "      <td>127.85</td>\n",
       "      <td>122.700</td>\n",
       "      <td>124.53</td>\n",
       "      <td>12121700.0</td>\n",
       "      <td>125.1165</td>\n",
       "      <td>132437</td>\n",
       "    </tr>\n",
       "  </tbody>\n",
       "</table>\n",
       "<p>252 rows × 7 columns</p>\n",
       "</div>"
      ],
      "text/plain": [
       "              open    high      low   close      volume      vwap  \\\n",
       "date                                                                \n",
       "2023-05-31  108.47  111.15  108.470  110.41  14563536.0  110.3172   \n",
       "2023-06-01  110.66  111.59  109.880  110.93   6960063.0  110.9360   \n",
       "2023-06-02  111.11  112.73  110.720  112.52   5792792.0  112.1935   \n",
       "2023-06-05  113.00  114.48  112.580  113.11   5692920.0  113.2613   \n",
       "2023-06-06  113.55  113.72  109.280  110.01   6960217.0  110.5323   \n",
       "...            ...     ...      ...     ...         ...       ...   \n",
       "2024-05-23  130.90  131.92  130.310  131.09   5416660.0  131.1242   \n",
       "2024-05-24  131.45  131.45  129.160  129.49   5569920.0  129.7614   \n",
       "2024-05-28  128.84  129.08  125.740  126.09  10151595.0  126.3212   \n",
       "2024-05-29  126.14  126.45  125.275  125.90   8026173.0  125.8670   \n",
       "2024-05-30  125.98  127.85  122.700  124.53  12121700.0  125.1165   \n",
       "\n",
       "            transactions  \n",
       "date                      \n",
       "2023-05-31         91481  \n",
       "2023-06-01         76972  \n",
       "2023-06-02         74396  \n",
       "2023-06-05         76453  \n",
       "2023-06-06         95257  \n",
       "...                  ...  \n",
       "2024-05-23         70862  \n",
       "2024-05-24         74137  \n",
       "2024-05-28        114225  \n",
       "2024-05-29         79564  \n",
       "2024-05-30        132437  \n",
       "\n",
       "[252 rows x 7 columns]"
      ]
     },
     "execution_count": 15,
     "metadata": {},
     "output_type": "execute_result"
    }
   ],
   "source": [
    "data = obb.equity.price.historical(symbol, provider=\"polygon\")\n",
    "data.to_dataframe()\n"
   ]
  },
  {
   "cell_type": "code",
   "execution_count": 16,
   "id": "fca0d125-d820-4175-8853-576d2eba36e7",
   "metadata": {},
   "outputs": [
    {
     "data": {
      "text/html": [
       "<div>\n",
       "<style scoped>\n",
       "    .dataframe tbody tr th:only-of-type {\n",
       "        vertical-align: middle;\n",
       "    }\n",
       "\n",
       "    .dataframe tbody tr th {\n",
       "        vertical-align: top;\n",
       "    }\n",
       "\n",
       "    .dataframe thead th {\n",
       "        text-align: right;\n",
       "    }\n",
       "</style>\n",
       "<table border=\"1\" class=\"dataframe\">\n",
       "  <thead>\n",
       "    <tr style=\"text-align: right;\">\n",
       "      <th></th>\n",
       "      <th>close</th>\n",
       "      <th>high</th>\n",
       "      <th>low</th>\n",
       "      <th>open</th>\n",
       "      <th>transactions</th>\n",
       "      <th>volume</th>\n",
       "      <th>vwap</th>\n",
       "    </tr>\n",
       "    <tr>\n",
       "      <th>date</th>\n",
       "      <th></th>\n",
       "      <th></th>\n",
       "      <th></th>\n",
       "      <th></th>\n",
       "      <th></th>\n",
       "      <th></th>\n",
       "      <th></th>\n",
       "    </tr>\n",
       "  </thead>\n",
       "  <tbody>\n",
       "    <tr>\n",
       "      <th>2023-05-31</th>\n",
       "      <td>417.85</td>\n",
       "      <td>419.2200</td>\n",
       "      <td>416.220</td>\n",
       "      <td>418.28</td>\n",
       "      <td>665147</td>\n",
       "      <td>110782530.0</td>\n",
       "      <td>418.0147</td>\n",
       "    </tr>\n",
       "    <tr>\n",
       "      <th>2023-06-01</th>\n",
       "      <td>421.82</td>\n",
       "      <td>422.9200</td>\n",
       "      <td>416.790</td>\n",
       "      <td>418.09</td>\n",
       "      <td>653406</td>\n",
       "      <td>88758018.0</td>\n",
       "      <td>420.4660</td>\n",
       "    </tr>\n",
       "    <tr>\n",
       "      <th>2023-06-02</th>\n",
       "      <td>427.92</td>\n",
       "      <td>428.7400</td>\n",
       "      <td>423.950</td>\n",
       "      <td>424.50</td>\n",
       "      <td>678309</td>\n",
       "      <td>91426171.0</td>\n",
       "      <td>426.8396</td>\n",
       "    </tr>\n",
       "    <tr>\n",
       "      <th>2023-06-05</th>\n",
       "      <td>427.10</td>\n",
       "      <td>429.6700</td>\n",
       "      <td>426.370</td>\n",
       "      <td>428.28</td>\n",
       "      <td>551795</td>\n",
       "      <td>70168016.0</td>\n",
       "      <td>427.9902</td>\n",
       "    </tr>\n",
       "    <tr>\n",
       "      <th>2023-06-06</th>\n",
       "      <td>428.03</td>\n",
       "      <td>428.5772</td>\n",
       "      <td>425.990</td>\n",
       "      <td>426.67</td>\n",
       "      <td>491099</td>\n",
       "      <td>63706675.0</td>\n",
       "      <td>427.5845</td>\n",
       "    </tr>\n",
       "    <tr>\n",
       "      <th>...</th>\n",
       "      <td>...</td>\n",
       "      <td>...</td>\n",
       "      <td>...</td>\n",
       "      <td>...</td>\n",
       "      <td>...</td>\n",
       "      <td>...</td>\n",
       "      <td>...</td>\n",
       "    </tr>\n",
       "    <tr>\n",
       "      <th>2024-05-23</th>\n",
       "      <td>525.96</td>\n",
       "      <td>533.0700</td>\n",
       "      <td>524.720</td>\n",
       "      <td>532.96</td>\n",
       "      <td>440792</td>\n",
       "      <td>56651841.0</td>\n",
       "      <td>528.0228</td>\n",
       "    </tr>\n",
       "    <tr>\n",
       "      <th>2024-05-24</th>\n",
       "      <td>529.44</td>\n",
       "      <td>530.2700</td>\n",
       "      <td>526.881</td>\n",
       "      <td>527.85</td>\n",
       "      <td>328927</td>\n",
       "      <td>41239368.0</td>\n",
       "      <td>528.9137</td>\n",
       "    </tr>\n",
       "    <tr>\n",
       "      <th>2024-05-28</th>\n",
       "      <td>529.81</td>\n",
       "      <td>530.5100</td>\n",
       "      <td>527.110</td>\n",
       "      <td>530.27</td>\n",
       "      <td>343539</td>\n",
       "      <td>36263860.0</td>\n",
       "      <td>529.3202</td>\n",
       "    </tr>\n",
       "    <tr>\n",
       "      <th>2024-05-29</th>\n",
       "      <td>526.10</td>\n",
       "      <td>527.3100</td>\n",
       "      <td>525.370</td>\n",
       "      <td>525.68</td>\n",
       "      <td>359195</td>\n",
       "      <td>44751381.0</td>\n",
       "      <td>526.6119</td>\n",
       "    </tr>\n",
       "    <tr>\n",
       "      <th>2024-05-30</th>\n",
       "      <td>522.61</td>\n",
       "      <td>525.2000</td>\n",
       "      <td>521.330</td>\n",
       "      <td>524.52</td>\n",
       "      <td>385199</td>\n",
       "      <td>45453300.0</td>\n",
       "      <td>523.6892</td>\n",
       "    </tr>\n",
       "  </tbody>\n",
       "</table>\n",
       "<p>252 rows × 7 columns</p>\n",
       "</div>"
      ],
      "text/plain": [
       "             close      high      low    open  transactions       volume  \\\n",
       "date                                                                       \n",
       "2023-05-31  417.85  419.2200  416.220  418.28        665147  110782530.0   \n",
       "2023-06-01  421.82  422.9200  416.790  418.09        653406   88758018.0   \n",
       "2023-06-02  427.92  428.7400  423.950  424.50        678309   91426171.0   \n",
       "2023-06-05  427.10  429.6700  426.370  428.28        551795   70168016.0   \n",
       "2023-06-06  428.03  428.5772  425.990  426.67        491099   63706675.0   \n",
       "...            ...       ...      ...     ...           ...          ...   \n",
       "2024-05-23  525.96  533.0700  524.720  532.96        440792   56651841.0   \n",
       "2024-05-24  529.44  530.2700  526.881  527.85        328927   41239368.0   \n",
       "2024-05-28  529.81  530.5100  527.110  530.27        343539   36263860.0   \n",
       "2024-05-29  526.10  527.3100  525.370  525.68        359195   44751381.0   \n",
       "2024-05-30  522.61  525.2000  521.330  524.52        385199   45453300.0   \n",
       "\n",
       "                vwap  \n",
       "date                  \n",
       "2023-05-31  418.0147  \n",
       "2023-06-01  420.4660  \n",
       "2023-06-02  426.8396  \n",
       "2023-06-05  427.9902  \n",
       "2023-06-06  427.5845  \n",
       "...              ...  \n",
       "2024-05-23  528.0228  \n",
       "2024-05-24  528.9137  \n",
       "2024-05-28  529.3202  \n",
       "2024-05-29  526.6119  \n",
       "2024-05-30  523.6892  \n",
       "\n",
       "[252 rows x 7 columns]"
      ]
     },
     "execution_count": 16,
     "metadata": {},
     "output_type": "execute_result"
    }
   ],
   "source": [
    "# use the local rest server\n",
    "data = []\n",
    "symbol2=\"SPY\"\n",
    "url = f\"http://127.0.0.1:8000/api/v1/equity/price/historical?provider=polygon&symbol={symbol2}\"\n",
    "headers = {\"accept\": \"application/json\"}\n",
    "\n",
    "response = requests.get(url, headers=headers, timeout=3)\n",
    "\n",
    "if response.status_code == 200:\n",
    "  data = OBBject.model_validate(response.json())\n",
    "\n",
    "data.to_df()\n"
   ]
  },
  {
   "cell_type": "code",
   "execution_count": 17,
   "id": "b075d0ae-55b4-49f8-acf7-c0a9045f322c",
   "metadata": {},
   "outputs": [
    {
     "data": {
      "text/plain": [
       "[('MRVL', 'Marvell Technology, Inc.')]"
      ]
     },
     "execution_count": 17,
     "metadata": {},
     "output_type": "execute_result"
    }
   ],
   "source": [
    "results = obb.equity.search(query='marvell', is_symbol=False, provider='sec', use_cache=True)\n",
    "[(r.symbol, r.name) for r in results.results]\n"
   ]
  },
  {
   "cell_type": "code",
   "execution_count": 18,
   "id": "60b0843c-df4f-4459-b721-c73bfe0730b0",
   "metadata": {},
   "outputs": [
    {
     "data": {
      "text/html": [
       "<div>\n",
       "<style scoped>\n",
       "    .dataframe tbody tr th:only-of-type {\n",
       "        vertical-align: middle;\n",
       "    }\n",
       "\n",
       "    .dataframe tbody tr th {\n",
       "        vertical-align: top;\n",
       "    }\n",
       "\n",
       "    .dataframe thead th {\n",
       "        text-align: right;\n",
       "    }\n",
       "</style>\n",
       "<table border=\"1\" class=\"dataframe\">\n",
       "  <thead>\n",
       "    <tr style=\"text-align: right;\">\n",
       "      <th></th>\n",
       "      <th>symbol</th>\n",
       "      <th>name</th>\n",
       "      <th>exchange</th>\n",
       "      <th>last_price</th>\n",
       "      <th>last_timestamp</th>\n",
       "      <th>open</th>\n",
       "      <th>high</th>\n",
       "      <th>low</th>\n",
       "      <th>volume</th>\n",
       "      <th>prev_close</th>\n",
       "      <th>...</th>\n",
       "      <th>year_high</th>\n",
       "      <th>year_low</th>\n",
       "      <th>price_avg50</th>\n",
       "      <th>price_avg200</th>\n",
       "      <th>avg_volume</th>\n",
       "      <th>market_cap</th>\n",
       "      <th>shares_outstanding</th>\n",
       "      <th>eps</th>\n",
       "      <th>pe</th>\n",
       "      <th>earnings_announcement</th>\n",
       "    </tr>\n",
       "  </thead>\n",
       "  <tbody>\n",
       "    <tr>\n",
       "      <th>0</th>\n",
       "      <td>TD</td>\n",
       "      <td>The Toronto-Dominion Bank</td>\n",
       "      <td>NYSE</td>\n",
       "      <td>55.92</td>\n",
       "      <td>2024-05-31 20:00:02+00:00</td>\n",
       "      <td>55.16</td>\n",
       "      <td>55.945</td>\n",
       "      <td>55.01</td>\n",
       "      <td>2353907</td>\n",
       "      <td>54.96</td>\n",
       "      <td>...</td>\n",
       "      <td>66.15</td>\n",
       "      <td>54.12</td>\n",
       "      <td>57.7658</td>\n",
       "      <td>59.70505</td>\n",
       "      <td>2975680</td>\n",
       "      <td>9.838006e+10</td>\n",
       "      <td>1759300000</td>\n",
       "      <td>4.37</td>\n",
       "      <td>12.80</td>\n",
       "      <td>2024-05-23 12:30:00+00:00</td>\n",
       "    </tr>\n",
       "    <tr>\n",
       "      <th>1</th>\n",
       "      <td>SCHW</td>\n",
       "      <td>The Charles Schwab Corporation</td>\n",
       "      <td>NYSE</td>\n",
       "      <td>73.28</td>\n",
       "      <td>2024-05-31 20:00:02+00:00</td>\n",
       "      <td>71.76</td>\n",
       "      <td>73.370</td>\n",
       "      <td>71.58</td>\n",
       "      <td>8562099</td>\n",
       "      <td>71.88</td>\n",
       "      <td>...</td>\n",
       "      <td>79.49</td>\n",
       "      <td>48.66</td>\n",
       "      <td>73.7096</td>\n",
       "      <td>63.79165</td>\n",
       "      <td>7423431</td>\n",
       "      <td>1.302391e+11</td>\n",
       "      <td>1777280000</td>\n",
       "      <td>2.39</td>\n",
       "      <td>30.66</td>\n",
       "      <td>2024-07-16 12:30:00+00:00</td>\n",
       "    </tr>\n",
       "    <tr>\n",
       "      <th>2</th>\n",
       "      <td>JPM</td>\n",
       "      <td>JPMorgan Chase &amp; Co.</td>\n",
       "      <td>NYSE</td>\n",
       "      <td>202.63</td>\n",
       "      <td>2024-05-31 20:01:02+00:00</td>\n",
       "      <td>199.30</td>\n",
       "      <td>203.300</td>\n",
       "      <td>198.35</td>\n",
       "      <td>6952024</td>\n",
       "      <td>199.33</td>\n",
       "      <td>...</td>\n",
       "      <td>205.88</td>\n",
       "      <td>135.19</td>\n",
       "      <td>194.9104</td>\n",
       "      <td>168.86615</td>\n",
       "      <td>9086187</td>\n",
       "      <td>5.818865e+11</td>\n",
       "      <td>2871670000</td>\n",
       "      <td>16.56</td>\n",
       "      <td>12.24</td>\n",
       "      <td>2024-07-12 12:30:00+00:00</td>\n",
       "    </tr>\n",
       "    <tr>\n",
       "      <th>3</th>\n",
       "      <td>MS</td>\n",
       "      <td>Morgan Stanley</td>\n",
       "      <td>NYSE</td>\n",
       "      <td>97.84</td>\n",
       "      <td>2024-05-31 20:03:37+00:00</td>\n",
       "      <td>97.33</td>\n",
       "      <td>97.960</td>\n",
       "      <td>96.40</td>\n",
       "      <td>7147518</td>\n",
       "      <td>97.23</td>\n",
       "      <td>...</td>\n",
       "      <td>103.25</td>\n",
       "      <td>69.42</td>\n",
       "      <td>94.2054</td>\n",
       "      <td>86.38140</td>\n",
       "      <td>7677123</td>\n",
       "      <td>1.590057e+11</td>\n",
       "      <td>1625160000</td>\n",
       "      <td>5.50</td>\n",
       "      <td>17.79</td>\n",
       "      <td>2024-07-16 12:30:00+00:00</td>\n",
       "    </tr>\n",
       "  </tbody>\n",
       "</table>\n",
       "<p>4 rows × 22 columns</p>\n",
       "</div>"
      ],
      "text/plain": [
       "  symbol                            name exchange  last_price  \\\n",
       "0     TD       The Toronto-Dominion Bank     NYSE       55.92   \n",
       "1   SCHW  The Charles Schwab Corporation     NYSE       73.28   \n",
       "2    JPM            JPMorgan Chase & Co.     NYSE      202.63   \n",
       "3     MS                  Morgan Stanley     NYSE       97.84   \n",
       "\n",
       "             last_timestamp    open     high     low   volume  prev_close  \\\n",
       "0 2024-05-31 20:00:02+00:00   55.16   55.945   55.01  2353907       54.96   \n",
       "1 2024-05-31 20:00:02+00:00   71.76   73.370   71.58  8562099       71.88   \n",
       "2 2024-05-31 20:01:02+00:00  199.30  203.300  198.35  6952024      199.33   \n",
       "3 2024-05-31 20:03:37+00:00   97.33   97.960   96.40  7147518       97.23   \n",
       "\n",
       "   ...  year_high  year_low  price_avg50  price_avg200  avg_volume  \\\n",
       "0  ...      66.15     54.12      57.7658      59.70505     2975680   \n",
       "1  ...      79.49     48.66      73.7096      63.79165     7423431   \n",
       "2  ...     205.88    135.19     194.9104     168.86615     9086187   \n",
       "3  ...     103.25     69.42      94.2054      86.38140     7677123   \n",
       "\n",
       "     market_cap  shares_outstanding    eps     pe     earnings_announcement  \n",
       "0  9.838006e+10          1759300000   4.37  12.80 2024-05-23 12:30:00+00:00  \n",
       "1  1.302391e+11          1777280000   2.39  30.66 2024-07-16 12:30:00+00:00  \n",
       "2  5.818865e+11          2871670000  16.56  12.24 2024-07-12 12:30:00+00:00  \n",
       "3  1.590057e+11          1625160000   5.50  17.79 2024-07-16 12:30:00+00:00  \n",
       "\n",
       "[4 rows x 22 columns]"
      ]
     },
     "execution_count": 18,
     "metadata": {},
     "output_type": "execute_result"
    }
   ],
   "source": [
    "# multiple symbols\n",
    "quotes = obb.equity.price.quote(\"td,schw,jpm,ms\", provider=\"fmp\")\n",
    "quotes.to_df()\n"
   ]
  },
  {
   "cell_type": "code",
   "execution_count": 19,
   "id": "8ba4d940-9520-4e56-86f2-82c8f6a66c70",
   "metadata": {},
   "outputs": [
    {
     "data": {
      "text/html": [
       "<div>\n",
       "<style scoped>\n",
       "    .dataframe tbody tr th:only-of-type {\n",
       "        vertical-align: middle;\n",
       "    }\n",
       "\n",
       "    .dataframe tbody tr th {\n",
       "        vertical-align: top;\n",
       "    }\n",
       "\n",
       "    .dataframe thead th {\n",
       "        text-align: right;\n",
       "    }\n",
       "</style>\n",
       "<table border=\"1\" class=\"dataframe\">\n",
       "  <thead>\n",
       "    <tr style=\"text-align: right;\">\n",
       "      <th></th>\n",
       "      <th>yfinance</th>\n",
       "      <th>fmp</th>\n",
       "      <th>polygon</th>\n",
       "    </tr>\n",
       "  </thead>\n",
       "  <tbody>\n",
       "    <tr>\n",
       "      <th>0</th>\n",
       "      <td>1.066750e+11</td>\n",
       "      <td>1.066750e+11</td>\n",
       "      <td>1.066750e+11</td>\n",
       "    </tr>\n",
       "    <tr>\n",
       "      <th>1</th>\n",
       "      <td>1.091600e+11</td>\n",
       "      <td>1.091600e+11</td>\n",
       "      <td>1.091600e+11</td>\n",
       "    </tr>\n",
       "    <tr>\n",
       "      <th>2</th>\n",
       "      <td>1.056940e+11</td>\n",
       "      <td>1.056940e+11</td>\n",
       "      <td>1.056940e+11</td>\n",
       "    </tr>\n",
       "    <tr>\n",
       "      <th>3</th>\n",
       "      <td>9.158800e+10</td>\n",
       "      <td>NaN</td>\n",
       "      <td>NaN</td>\n",
       "    </tr>\n",
       "  </tbody>\n",
       "</table>\n",
       "</div>"
      ],
      "text/plain": [
       "       yfinance           fmp       polygon\n",
       "0  1.066750e+11  1.066750e+11  1.066750e+11\n",
       "1  1.091600e+11  1.091600e+11  1.091600e+11\n",
       "2  1.056940e+11  1.056940e+11  1.056940e+11\n",
       "3  9.158800e+10           NaN           NaN"
      ]
     },
     "execution_count": 19,
     "metadata": {},
     "output_type": "execute_result"
    }
   ],
   "source": [
    "# multiple providers\n",
    "\n",
    "df = pd.DataFrame()\n",
    "\n",
    "df[\"yfinance\"] = (\n",
    "  obb.equity.fundamental.balance(symbol, provider=\"yfinance\", limit=3)\n",
    "  .to_df().get(\"total_assets\")\n",
    ")\n",
    "\n",
    "df[\"fmp\"] = (\n",
    "  obb.equity.fundamental.balance(symbol, provider=\"fmp\", limit=3)\n",
    "  .to_df().get(\"total_assets\")\n",
    ")\n",
    "\n",
    "df[\"polygon\"] = (\n",
    "  obb.equity.fundamental.balance(symbol, provider=\"polygon\", limit=3)\n",
    "  .to_df().get(\"total_assets\")\n",
    ")\n",
    "\n",
    "df"
   ]
  },
  {
   "cell_type": "code",
   "execution_count": 20,
   "id": "4a2e949d-7d0a-44e2-a1ed-46802abd3d74",
   "metadata": {},
   "outputs": [
    {
     "data": {
      "text/html": [
       "<div>\n",
       "<style scoped>\n",
       "    .dataframe tbody tr th:only-of-type {\n",
       "        vertical-align: middle;\n",
       "    }\n",
       "\n",
       "    .dataframe tbody tr th {\n",
       "        vertical-align: top;\n",
       "    }\n",
       "\n",
       "    .dataframe thead th {\n",
       "        text-align: right;\n",
       "    }\n",
       "</style>\n",
       "<table border=\"1\" class=\"dataframe\">\n",
       "  <thead>\n",
       "    <tr style=\"text-align: right;\">\n",
       "      <th></th>\n",
       "      <th>title</th>\n",
       "      <th>text</th>\n",
       "      <th>images</th>\n",
       "      <th>url</th>\n",
       "      <th>symbols</th>\n",
       "      <th>source</th>\n",
       "      <th>id</th>\n",
       "      <th>amp_url</th>\n",
       "      <th>publisher</th>\n",
       "    </tr>\n",
       "    <tr>\n",
       "      <th>date</th>\n",
       "      <th></th>\n",
       "      <th></th>\n",
       "      <th></th>\n",
       "      <th></th>\n",
       "      <th></th>\n",
       "      <th></th>\n",
       "      <th></th>\n",
       "      <th></th>\n",
       "      <th></th>\n",
       "    </tr>\n",
       "  </thead>\n",
       "  <tbody>\n",
       "    <tr>\n",
       "      <th>2024-05-27 05:45:30+00:00</th>\n",
       "      <td>Unloved Gilead Due For Reversal On Flight-To-S...</td>\n",
       "      <td>Numerous drugs under development are projected...</td>\n",
       "      <td>[{'url': 'https://static.seekingalpha.com/cdn/...</td>\n",
       "      <td>https://seekingalpha.com/article/4695781-unlov...</td>\n",
       "      <td>ABBV,AMGN,BIIB,BMY,BMYMP,BNTX,GLAXF,GSK,LLY,MR...</td>\n",
       "      <td>Paul Franke</td>\n",
       "      <td>KwL4UVXZJPnuntp2y2lmCEIYOd6pebYypyY9SHc06wI</td>\n",
       "      <td>None</td>\n",
       "      <td>{'favicon_url': 'https://s3.polygon.io/public/...</td>\n",
       "    </tr>\n",
       "    <tr>\n",
       "      <th>2024-05-28 14:38:00+00:00</th>\n",
       "      <td>Moderna (MRNA) Stock Outperformed Industry YTD...</td>\n",
       "      <td>Shares of Moderna (MRNA) are being driven by e...</td>\n",
       "      <td>[{'url': 'https://staticx-tuner.zacks.com/imag...</td>\n",
       "      <td>https://www.zacks.com/stock/news/2280158/moder...</td>\n",
       "      <td>MRK,MRNA,HRTX,ARQT</td>\n",
       "      <td>Zacks Equity Research</td>\n",
       "      <td>Gw9nyWcRUQ6004OVcXK4bXv8jHJhiiNTjm-r4P8L534</td>\n",
       "      <td>https://www.zacks.com/amp/stock/news/2280158/m...</td>\n",
       "      <td>{'favicon_url': 'https://s3.polygon.io/public/...</td>\n",
       "    </tr>\n",
       "    <tr>\n",
       "      <th>2024-05-30 16:24:00+00:00</th>\n",
       "      <td>Merck (MRK) to Buy Private Ophthalmology Compa...</td>\n",
       "      <td>Merck's (MRK) acquisition of EyeBio is set to ...</td>\n",
       "      <td>[{'url': 'https://staticx-tuner.zacks.com/imag...</td>\n",
       "      <td>https://www.zacks.com/stock/news/2281600/merck...</td>\n",
       "      <td>JNJ,MRK,HRTX,BVS</td>\n",
       "      <td>Zacks Equity Research</td>\n",
       "      <td>cIh25UMm8bcOJrtzNcggBOMCUQ8LEimkKDSDVMkPgDY</td>\n",
       "      <td>https://www.zacks.com/amp/stock/news/2281600/m...</td>\n",
       "      <td>{'favicon_url': 'https://s3.polygon.io/public/...</td>\n",
       "    </tr>\n",
       "    <tr>\n",
       "      <th>2024-05-31 10:20:06+00:00</th>\n",
       "      <td>Should Schwab U.S. Dividend Equity ETF (SCHD) ...</td>\n",
       "      <td>Style Box ETF report for SCHD</td>\n",
       "      <td>[{'url': 'https://staticx-tuner.zacks.com/imag...</td>\n",
       "      <td>https://www.zacks.com/stock/news/2281786/shoul...</td>\n",
       "      <td>SCHD,MRK,AVGO,ABBV,VTV,IWD</td>\n",
       "      <td>Zacks Equity Research</td>\n",
       "      <td>j-2nXYnN8cFFdV8CoQDymZAcMSZVTGmJU_ERMUXCJYI</td>\n",
       "      <td>https://www.zacks.com/amp/stock/news/2281786/s...</td>\n",
       "      <td>{'favicon_url': 'https://s3.polygon.io/public/...</td>\n",
       "    </tr>\n",
       "    <tr>\n",
       "      <th>2024-05-31 13:33:00+00:00</th>\n",
       "      <td>Pharma Stock Roundup: JNJ, MRK M&amp;A Deals, SNY,...</td>\n",
       "      <td>J&amp;J (JNJ) and Merck (MRK) announce the acquisi...</td>\n",
       "      <td>[{'url': 'https://staticx-tuner.zacks.com/imag...</td>\n",
       "      <td>https://www.zacks.com/stock/news/2281925/pharm...</td>\n",
       "      <td>SNY,AZN,RHHBY,JNJ,MRK</td>\n",
       "      <td>Kinjel Shah</td>\n",
       "      <td>3zBaCt6YWLR_8kX9IMtbpk1U1kbwonXxgvcRnPqwNI4</td>\n",
       "      <td>https://www.zacks.com/amp/stock/news/2281925/p...</td>\n",
       "      <td>{'favicon_url': 'https://s3.polygon.io/public/...</td>\n",
       "    </tr>\n",
       "  </tbody>\n",
       "</table>\n",
       "</div>"
      ],
      "text/plain": [
       "                                                                       title  \\\n",
       "date                                                                           \n",
       "2024-05-27 05:45:30+00:00  Unloved Gilead Due For Reversal On Flight-To-S...   \n",
       "2024-05-28 14:38:00+00:00  Moderna (MRNA) Stock Outperformed Industry YTD...   \n",
       "2024-05-30 16:24:00+00:00  Merck (MRK) to Buy Private Ophthalmology Compa...   \n",
       "2024-05-31 10:20:06+00:00  Should Schwab U.S. Dividend Equity ETF (SCHD) ...   \n",
       "2024-05-31 13:33:00+00:00  Pharma Stock Roundup: JNJ, MRK M&A Deals, SNY,...   \n",
       "\n",
       "                                                                        text  \\\n",
       "date                                                                           \n",
       "2024-05-27 05:45:30+00:00  Numerous drugs under development are projected...   \n",
       "2024-05-28 14:38:00+00:00  Shares of Moderna (MRNA) are being driven by e...   \n",
       "2024-05-30 16:24:00+00:00  Merck's (MRK) acquisition of EyeBio is set to ...   \n",
       "2024-05-31 10:20:06+00:00                      Style Box ETF report for SCHD   \n",
       "2024-05-31 13:33:00+00:00  J&J (JNJ) and Merck (MRK) announce the acquisi...   \n",
       "\n",
       "                                                                      images  \\\n",
       "date                                                                           \n",
       "2024-05-27 05:45:30+00:00  [{'url': 'https://static.seekingalpha.com/cdn/...   \n",
       "2024-05-28 14:38:00+00:00  [{'url': 'https://staticx-tuner.zacks.com/imag...   \n",
       "2024-05-30 16:24:00+00:00  [{'url': 'https://staticx-tuner.zacks.com/imag...   \n",
       "2024-05-31 10:20:06+00:00  [{'url': 'https://staticx-tuner.zacks.com/imag...   \n",
       "2024-05-31 13:33:00+00:00  [{'url': 'https://staticx-tuner.zacks.com/imag...   \n",
       "\n",
       "                                                                         url  \\\n",
       "date                                                                           \n",
       "2024-05-27 05:45:30+00:00  https://seekingalpha.com/article/4695781-unlov...   \n",
       "2024-05-28 14:38:00+00:00  https://www.zacks.com/stock/news/2280158/moder...   \n",
       "2024-05-30 16:24:00+00:00  https://www.zacks.com/stock/news/2281600/merck...   \n",
       "2024-05-31 10:20:06+00:00  https://www.zacks.com/stock/news/2281786/shoul...   \n",
       "2024-05-31 13:33:00+00:00  https://www.zacks.com/stock/news/2281925/pharm...   \n",
       "\n",
       "                                                                     symbols  \\\n",
       "date                                                                           \n",
       "2024-05-27 05:45:30+00:00  ABBV,AMGN,BIIB,BMY,BMYMP,BNTX,GLAXF,GSK,LLY,MR...   \n",
       "2024-05-28 14:38:00+00:00                                 MRK,MRNA,HRTX,ARQT   \n",
       "2024-05-30 16:24:00+00:00                                   JNJ,MRK,HRTX,BVS   \n",
       "2024-05-31 10:20:06+00:00                         SCHD,MRK,AVGO,ABBV,VTV,IWD   \n",
       "2024-05-31 13:33:00+00:00                              SNY,AZN,RHHBY,JNJ,MRK   \n",
       "\n",
       "                                          source  \\\n",
       "date                                               \n",
       "2024-05-27 05:45:30+00:00            Paul Franke   \n",
       "2024-05-28 14:38:00+00:00  Zacks Equity Research   \n",
       "2024-05-30 16:24:00+00:00  Zacks Equity Research   \n",
       "2024-05-31 10:20:06+00:00  Zacks Equity Research   \n",
       "2024-05-31 13:33:00+00:00            Kinjel Shah   \n",
       "\n",
       "                                                                    id  \\\n",
       "date                                                                     \n",
       "2024-05-27 05:45:30+00:00  KwL4UVXZJPnuntp2y2lmCEIYOd6pebYypyY9SHc06wI   \n",
       "2024-05-28 14:38:00+00:00  Gw9nyWcRUQ6004OVcXK4bXv8jHJhiiNTjm-r4P8L534   \n",
       "2024-05-30 16:24:00+00:00  cIh25UMm8bcOJrtzNcggBOMCUQ8LEimkKDSDVMkPgDY   \n",
       "2024-05-31 10:20:06+00:00  j-2nXYnN8cFFdV8CoQDymZAcMSZVTGmJU_ERMUXCJYI   \n",
       "2024-05-31 13:33:00+00:00  3zBaCt6YWLR_8kX9IMtbpk1U1kbwonXxgvcRnPqwNI4   \n",
       "\n",
       "                                                                     amp_url  \\\n",
       "date                                                                           \n",
       "2024-05-27 05:45:30+00:00                                               None   \n",
       "2024-05-28 14:38:00+00:00  https://www.zacks.com/amp/stock/news/2280158/m...   \n",
       "2024-05-30 16:24:00+00:00  https://www.zacks.com/amp/stock/news/2281600/m...   \n",
       "2024-05-31 10:20:06+00:00  https://www.zacks.com/amp/stock/news/2281786/s...   \n",
       "2024-05-31 13:33:00+00:00  https://www.zacks.com/amp/stock/news/2281925/p...   \n",
       "\n",
       "                                                                   publisher  \n",
       "date                                                                          \n",
       "2024-05-27 05:45:30+00:00  {'favicon_url': 'https://s3.polygon.io/public/...  \n",
       "2024-05-28 14:38:00+00:00  {'favicon_url': 'https://s3.polygon.io/public/...  \n",
       "2024-05-30 16:24:00+00:00  {'favicon_url': 'https://s3.polygon.io/public/...  \n",
       "2024-05-31 10:20:06+00:00  {'favicon_url': 'https://s3.polygon.io/public/...  \n",
       "2024-05-31 13:33:00+00:00  {'favicon_url': 'https://s3.polygon.io/public/...  "
      ]
     },
     "execution_count": 20,
     "metadata": {},
     "output_type": "execute_result"
    }
   ],
   "source": [
    "obb.news.company(symbol, provider='polygon', limit=5).to_df()\n"
   ]
  },
  {
   "cell_type": "markdown",
   "id": "05e5429f-164c-4d82-81da-5b22b2c2c4ae",
   "metadata": {},
   "source": [
    "# Prompt OpenAI "
   ]
  },
  {
   "cell_type": "code",
   "execution_count": 8,
   "id": "a758632e-504b-4c2d-a26a-5de9cd158946",
   "metadata": {},
   "outputs": [],
   "source": [
    "MODEL = \"gpt-4o\"\n",
    "\n",
    "# MAX_INPUT_TOKENS = 65536\n",
    "MAX_OUTPUT_TOKENS = 4096    # max in current model\n",
    "MAX_RETRIES = 3\n",
    "TEMPERATURE = 0\n",
    "\n",
    "client = OpenAI()\n"
   ]
  },
  {
   "cell_type": "code",
   "execution_count": 22,
   "id": "b7abde63-5b62-48bc-9df0-cdf3c80990bd",
   "metadata": {},
   "outputs": [
    {
     "name": "stdout",
     "output_type": "stream",
     "text": [
      "The airspeed velocity of an unladen European Swallow (Hirundo rustica) has been estimated to be around 11 meters per second, or approximately 24 miles per hour. This figure is based on various studies of their flight mechanics and speed.\n",
      "\n",
      "If this question is a nod to the classic line from the movie \"Monty Python and the Holy Grail,\" then you've tapped into a humorous and frequently quoted piece of pop culture!\n"
     ]
    }
   ],
   "source": [
    "messages = [{\"role\": \"user\", \"content\": \"what is the airspeed velocity of an unladen swallow?\"}]\n",
    "response = get_response(client, messages, tools=[])\n",
    "response_str = response.choices[0].message.content\n",
    "response_str = response_str.replace(\"$\", \"\\\\\\$\")\n",
    "\n",
    "print(response_str)"
   ]
  },
  {
   "cell_type": "markdown",
   "id": "e46d791f-7991-4b2b-ab87-db9924d66f09",
   "metadata": {},
   "source": [
    "# Question Answering Agent"
   ]
  },
  {
   "cell_type": "code",
   "execution_count": 23,
   "id": "abbeb492-4c38-48b3-91d9-005be43b3a80",
   "metadata": {},
   "outputs": [
    {
     "data": {
      "text/plain": [
       "143226"
      ]
     },
     "execution_count": 23,
     "metadata": {},
     "output_type": "execute_result"
    }
   ],
   "source": [
    "# make a custom tool\n",
    "\n",
    "def get_10k_item1_from_symbol(symbol):\n",
    "    \"\"\"\n",
    "    Get item 1 of the latest 10-K annual report filing for a given symbol.\n",
    "\n",
    "    Args:\n",
    "        symbol (str): The symbol of the equity.\n",
    "\n",
    "    Returns:\n",
    "        str: The item 1 of the latest 10-K annual report filing, or None if not found.\n",
    "\n",
    "    \"\"\"\n",
    "    item1_text = None\n",
    "    try:\n",
    "        # sec needs you to identify yourself for rate limiting\n",
    "        dl = Downloader(os.getenv(\"SEC_FIRM\"), os.getenv(\"SEC_USER\"))\n",
    "        html = dl.get_filing_html(ticker=symbol, form=\"10-K\")\n",
    "        elements: list = sp.Edgar10QParser().parse(html)\n",
    "        tree = sp.TreeBuilder().build(elements)\n",
    "        sections = [n for n in tree.nodes if n.text.startswith(\"Item\")]\n",
    "        item1_node = sections[0]\n",
    "        item1_text = \"\\n\".join([n.text for n in sections[0].get_descendants()])\n",
    "    except:\n",
    "        return None\n",
    "    # always return a list of dicts\n",
    "    return [{'item1': item1_text}]\n",
    "\n",
    "fn_metadata = {\n",
    "    \"name\": \"get_10k_item1_from_symbol\",\n",
    "    \"description\": \"Given a stock symbol, gets item 1 of the company's latest 10-K annual report filing.\",\n",
    "    \"openapi_path\" : None,\n",
    "    \"callable\": get_10k_item1_from_symbol,\n",
    "    \"parameters\": {\n",
    "        \"symbol\": {\n",
    "            \"type\": \"string\",\n",
    "            \"description\": \"The symbol to get the 10-K item 1 for\"\n",
    "            }\n",
    "        },\n",
    "    \"default_parameters\": {},\n",
    "    \"example_parameter_values\": [{\n",
    "        \"symbol\": \"MSFT\",\n",
    "    }],\n",
    "}\n",
    "\n",
    "tool = BB_agent_tool(**fn_metadata)\n",
    "tool_response = tool(symbol=\"MSFT\")\n",
    "len(json.loads(tool_response)[0]['item1'])\n"
   ]
  },
  {
   "cell_type": "code",
   "execution_count": 24,
   "id": "52296f7e-8ac4-4a13-b6f2-549335464acb",
   "metadata": {},
   "outputs": [
    {
     "name": "stdout",
     "output_type": "stream",
     "text": [
      "\n",
      "Role: You are an AI stock market assistant tasked with providing investors\n",
      "with up-to-date, detailed information on individual stocks.\n",
      "\n",
      "Objective: Assist data-driven stock market investors by giving accurate,\n",
      "complete, but concise information relevant to their questions about individual\n",
      "stocks.\n",
      "\n",
      "Capabilities: You are given a number of tools as functions. Use as many tools\n",
      "as needed to ensure all information provided is timely, accurate, concise,\n",
      "relevant, and responsive to the user's query.\n",
      "\n",
      "Instructions:\n",
      "1. Input validation. Determine if the input is asking about a specific company\n",
      "or stock ticker. If not, respond in a friendly, positive, professional tone\n",
      "that you don't have information to answer and suggest alternative services\n",
      "or approaches.\n",
      "\n",
      "2. Symbol extraction. If the query is valid, extract the company name or ticker\n",
      "symbol from the question. If a company name is given, look up the ticker symbol\n",
      "using a tool. If the ticker symbol is not found based on the company, try to\n",
      "correct the spelling and try again, like changing \"microsfot\" to \"microsoft\",\n",
      "or broadening the search, like changng \"southwest airlines\" to a shorter variation\n",
      "like \"southwest\" and increasing \"limit\" to 10 or more. If the company or ticker is\n",
      "still unclear based on the question or conversation so far, and the results of the\n",
      "symbol lookup, then ask the user to clarify which company or ticker.\n",
      "\n",
      "3. Information retrieval. Determine what data the user is seeking on the symbol\n",
      "identified. Use the appropriate tools to fetch the requested information. Only use\n",
      "data obtained from the tools. You may use multiple tools in a sequence. For instance,\n",
      "first determine the company's symbol, then retrieve company data using the symbol.\n",
      "\n",
      "4. Compose Response. Provide the answer to the user in a clear and concise format,\n",
      "in a friendly professional tone, emphasizing the data retrieved, without comment\n",
      "or analysis unless specifically requested by the user.\n",
      "\n",
      "Example Interaction:\n",
      "User asks: \"What is the PE ratio for Eli Lilly?\"\n",
      "Chatbot recognizes 'Eli Lilly' as a company name.\n",
      "Chatbot uses symbol lookup to find the ticker for Eli Lilly, returning LLY.\n",
      "Chatbot retrieves the PE ratio using the proper function with symbol LLY.\n",
      "Chatbot responds: \"The PE ratio for Eli Lilly (symbol: LLY) as of May 12, 2024 is 30.\"\n",
      "\n",
      "Check carefully and only call the tools which are specifically named below.\n",
      "Only use data obtained from these tools.\n",
      "\n",
      "\n",
      "system: \n",
      "Role: You are an AI stock market assistant tasked with providing investors\n",
      "with up-to-date, detailed information on individual stocks.\n",
      "\n",
      "Objective: Assist data-driven stock market investors by giving accurate,\n",
      "complete, but concise information relevant to their questions about individual\n",
      "stocks.\n",
      "\n",
      "Capabilities: You are given a number of tools as functions. Use as many tools\n",
      "as needed to ensure all information provided is timely, accurate, concise,\n",
      "relevant, and responsive to the user's query.\n",
      "\n",
      "Instructions:\n",
      "1. Input validation. Determine if the input is asking about a specific company\n",
      "or stock ticker. If not, respond in a friendly, positive, professional tone\n",
      "that you don't have information to answer and suggest alternative services\n",
      "or approaches.\n",
      "\n",
      "2. Symbol extraction. If the query is valid, extract the company name or ticker\n",
      "symbol from the question. If a company name is given, look up the ticker symbol\n",
      "using a tool. If the ticker symbol is not found based on the company, try to\n",
      "correct the spelling and try again, like changing \"microsfot\" to \"microsoft\",\n",
      "or broadening the search, like changng \"southwest airlines\" to a shorter variation\n",
      "like \"southwest\" and increasing \"limit\" to 10 or more. If the company or ticker is\n",
      "still unclear based on the question or conversation so far, and the results of the\n",
      "symbol lookup, then ask the user to clarify which company or ticker.\n",
      "\n",
      "3. Information retrieval. Determine what data the user is seeking on the symbol\n",
      "identified. Use the appropriate tools to fetch the requested information. Only use\n",
      "data obtained from the tools. You may use multiple tools in a sequence. For instance,\n",
      "first determine the company's symbol, then retrieve company data using the symbol.\n",
      "\n",
      "4. Compose Response. Provide the answer to the user in a clear and concise format,\n",
      "in a friendly professional tone, emphasizing the data retrieved, without comment\n",
      "or analysis unless specifically requested by the user.\n",
      "\n",
      "Example Interaction:\n",
      "User asks: \"What is the PE ratio for Eli Lilly?\"\n",
      "Chatbot recognizes 'Eli Lilly' as a company name.\n",
      "Chatbot uses symbol lookup to find the ticker for Eli Lilly, returning LLY.\n",
      "Chatbot retrieves the PE ratio using the proper function with symbol LLY.\n",
      "Chatbot responds: \"The PE ratio for Eli Lilly (symbol: LLY) as of May 12, 2024 is 30.\"\n",
      "\n",
      "Check carefully and only call the tools which are specifically named below.\n",
      "Only use data obtained from these tools.\n",
      "\n",
      "\n",
      "\n",
      "Available tools, with name, description, and calling example, delimited by ---:\n",
      "get_10k_item1_from_symbol : Given a stock symbol, gets item 1 of the company's latest 10-K annual report filing. Usage: get_10k_item1_from_symbol(symbol=\"MSFT\") -> [{\"item1\": \"Note About Forward-Looking Statements\\nThis report includes estimates, projections, statements relating to our business plans, objectives, and expected operating results that are \\u201cforward-looking statements\\u201d within the meaning of the Private Securities Litigation Reform Act of 1995, Section 27A of the Securities Act of 1933, and Section 21E of the Securities Exchange Act of 1934. Forward-looking statements may appear throughout this report, including the following sections: \\u201cBusiness\\u201d (Part I, Item 1 of this Form 10-K), \\u201cRisk Factors\\u201d (Part I, Item 1A of this Form 10-K), and \\u201cManagement\\u2019s Discussion and Analysis of Financial Condition and Results of Operations\\u201d (Part II, Item 7 of this Form 10-K). These forward-looking statements generally are identified by the words \\u201cbelieve,\\u201d \\u201cproject,\\u201d \\u201cexpect,\\u201d \\u201canticipate,\\u201d \\u201cestimate,\\u201d \\u201cintend,\\u201d \\u201cstrategy,\\u201d \\u201cfuture,\\u201d \\u201copportunity,\\u201d \\u201cplan,\\u201d \\u201cmay,\\u201d \\u201cshould,\\u201d \\u201cwill,\\u201d \\u201cwould,\\u201d \\u201cwill be,\\u201d \\u201cwill continue,\\u201d \\u201cwill likely result,\\u201d and similar expressions. Forward-looking statements are based on current expectations and assumptions that are subject to risks and uncertainties that may cause actual results to differ materially. We describe risks and uncertainties that could cause actual results and events to differ materially in \\u201cRisk Factors,\\u201d \\u201cManagement\\u2019s Discussion and Analysis of Financial Condition and Results of Operations,\\u201d and \\u201cQuantitative and Qualitative Disclosures about Market Risk\\u201d (Part II, Item 7A of this Form 10-K). Readers are cautioned not to place undue reliance on forward-looking statements, which speak only as of the date they are made. We undertake no obligation to update or revise publicly any forward-looking statements, whether because of new information, fu…\n",
      "---\n",
      "\n",
      "    \n",
      "user: Please summarize item 1 from the latest MSFT annual report\n",
      "Choice(finish_reason='tool_calls', index=0, logprobs=None, message=ChatCompletionMessage(content=None, role='assistant', function_call=None, tool_calls=[ChatCompletionMessageToolCall(id='call_hwkEjpsJVdWk5HGsyYOEqhNe', function=Function(arguments='{\"symbol\":\"MSFT\"}', name='get_10k_item1_from_symbol'), type='function')]))\n",
      "[ChatCompletionMessageToolCall(id='call_hwkEjpsJVdWk5HGsyYOEqhNe', function=Function(arguments='{\"symbol\":\"MSFT\"}', name='get_10k_item1_from_symbol'), type='function')]\n",
      "get_10k_item1_from_symbol({'symbol': 'MSFT'}) -> [{\"item1\": \"Note About Forward-Looking Statements\\nThis report includes estimates, projections, stat...\n",
      "Choice(finish_reason='stop', index=0, logprobs=None, message=ChatCompletionMessage(content=\"### Summary of Item 1 from Microsoft's Latest 10-K Annual Report\\n\\n#### **General Description:**\\n- **Business Overview:**\\n  - **Mission:** Microsoft is dedicated to empowering individuals and organizations globally to achieve more.\\n  - **Products and Services:** They offer a wide array of software, services, devices, and solutions, including cloud-based services, software development tools, business applications, gaming consoles, and more.\\n  - **Key Segments:** Their operations are divided into three main segments:\\n    1. **Productivity and Business Processes:** Includes Office, LinkedIn, and Dynamics.\\n    2. **Intelligent Cloud:** Consists of Azure, SQL Server, and Nuance, among others.\\n    3. **More Personal Computing:** Encompasses Windows, Devices (Surface, Xbox), and Search and Advertising.\\n\\n#### **Strategic Initiatives:**\\n- **AI Integration:** Microsoft is heavily investing in a...\n"
     ]
    },
    {
     "data": {
      "text/markdown": [
       "### Summary of Item 1 from Microsoft's Latest 10-K Annual Report\n",
       "\n",
       "#### **General Description:**\n",
       "- **Business Overview:**\n",
       "  - **Mission:** Microsoft is dedicated to empowering individuals and organizations globally to achieve more.\n",
       "  - **Products and Services:** They offer a wide array of software, services, devices, and solutions, including cloud-based services, software development tools, business applications, gaming consoles, and more.\n",
       "  - **Key Segments:** Their operations are divided into three main segments:\n",
       "    1. **Productivity and Business Processes:** Includes Office, LinkedIn, and Dynamics.\n",
       "    2. **Intelligent Cloud:** Consists of Azure, SQL Server, and Nuance, among others.\n",
       "    3. **More Personal Computing:** Encompasses Windows, Devices (Surface, Xbox), and Search and Advertising.\n",
       "\n",
       "#### **Strategic Initiatives:**\n",
       "- **AI Integration:** Microsoft is heavily investing in artificial intelligence (AI) across all their services, aiming to innovate and expand their offerings with AI capabilities.\n",
       "- **Cloud Services:** Microsoft Cloud is designed to help organizations unlock value from their digital investments while ensuring security and operational efficiency.\n",
       "- **Gaming:** Microsoft's strategy includes acquiring new content creators and developing new gaming studios to expand Xbox Game Pass and other services.\n",
       "- **Sustainability:** Committed to being a carbon negative, water positive, and zero waste company by 2030.\n",
       "\n",
       "#### **Commitment to Innovation:**\n",
       "- **Research and Development:** The company continues to focus on developing new technologies and integrating them into their services to remain competitive.\n",
       "- **Product Development:** Internal teams focus on areas such as cloud infrastructure, productivity tools, security, and devices.\n",
       "\n",
       "#### **Challenges and Competition:**\n",
       "- **Market Dynamics:** Facing intense competition from various software and application vendors, including Apple, Google, Amazon, and others.\n",
       "- **Regulatory Risks:** Microsoft is subject to global regulatory scrutiny and must navigate a complex legal landscape regarding data privacy, antitrust laws, and more.\n",
       "- **Security and Trust:** Ensuring the security of their products and services, along with addressing user privacy and data management concerns, are paramount.\n",
       "\n",
       "#### **Corporate Social Responsibility:**\n",
       "- **Racial Equity:** Initiatives to address racial injustice and promote equity within the organization and beyond are in place, with specific targets set for 2025.\n",
       "- **Digital Skills:** Programs like the Skills for Jobs initiative aim to address the global skills gap, particularly in cybersecurity and AI.\n",
       "\n",
       "#### **Operational Structure:**\n",
       "- **Global Workforce:** Employing roughly 221,000 people worldwide, with significant investment in employee development and wellbeing.\n",
       "- **Market Presence:** Microsoft operates datacenters and regional offices globally to support its diverse customer base.\n",
       "\n",
       "This summary highlights the extensive scope of Microsoft's operations, strategic priorities, and their commitment to innovation and corporate responsibility. It underscores the challenges and competitive pressures they face in the technology sector, as well as their resilience and proactive measures in addressing them."
      ],
      "text/plain": [
       "<IPython.core.display.Markdown object>"
      ]
     },
     "metadata": {},
     "output_type": "display_data"
    }
   ],
   "source": [
    "user_message = \"Please summarize item 1 from the latest MSFT annual report\"\n",
    "agent_query(client, user_message, verbose=True)\n"
   ]
  },
  {
   "cell_type": "markdown",
   "id": "6bb88565-e7d2-45fa-bd9e-ec2ce541617d",
   "metadata": {},
   "source": [
    "# Add more OpenBB tools\n",
    "Map OpenBB functions to OpenAI tools"
   ]
  },
  {
   "cell_type": "code",
   "execution_count": 5,
   "id": "62d1b8ba-7de6-4309-8b75-9d9a24578d5a",
   "metadata": {},
   "outputs": [],
   "source": [
    "# reimport obb after doing this.\n",
    "obb.user.preferences.output_type=\"llm\"\n",
    "obb.system.python_settings.docstring_sections=['description', 'examples']\n",
    "obb.system.python_settings.docstring_max_length=1000\n",
    "openbb.build()\n"
   ]
  },
  {
   "cell_type": "code",
   "execution_count": 5,
   "id": "a6448a8a-e3ce-4917-bf46-0d3f9c95c761",
   "metadata": {},
   "outputs": [
    {
     "name": "stdout",
     "output_type": "stream",
     "text": [
      "Get the latest quote for a given stock. Quote includes price, volume, and other data.\n",
      "\n",
      "\n",
      "        Examples\n",
      "        --------\n",
      "        >>> from openbb import obb\n",
      "        >>> obb.equity.price.quote(symbol='AAPL', provider='fmp')\n",
      "        \n"
     ]
    }
   ],
   "source": [
    "#note short description\n",
    "print(obb.equity.price.quote.__doc__)"
   ]
  },
  {
   "cell_type": "code",
   "execution_count": 28,
   "id": "1e851539-591a-4018-8e52-24746546464c",
   "metadata": {},
   "outputs": [
    {
     "name": "stdout",
     "output_type": "stream",
     "text": [
      "__class__\n",
      "<class 'method'>\n",
      "====\n",
      "\n",
      "__doc__\n",
      "Get the latest quote for a given stock. Quote includes price, volume, and other data.\n",
      "\n",
      "\n",
      "        Examples\n",
      "        --------\n",
      "        >>> from openbb import obb\n",
      "        >>> obb.equity.price.quote(symbol='AAPL', provider='fmp')\n",
      "        \n",
      "====\n",
      "\n",
      "__self__\n",
      "/equity/price\n",
      "    historical\n",
      "    nbbo\n",
      "    performance\n",
      "    quote\n",
      "    \n",
      "====\n",
      "\n"
     ]
    }
   ],
   "source": [
    "import inspect\n",
    "\n",
    "# List all members (including methods)\n",
    "# members = inspect.getmembers(obb.equity.price.quote)\n",
    "# for m in members:\n",
    "#     print(m)\n",
    "#     print(\"====\\n\")\n",
    "\n",
    "# List only methods\n",
    "# methods = inspect.getmembers(obb.equity.price.quote, predicate=inspect.ismethod)\n",
    "# print(methods)\n",
    "\n",
    "# List only attributes\n",
    "attributes = inspect.getmembers(obb.equity.price.quote, predicate=lambda a: not(inspect.isroutine(a)))\n",
    "for a in attributes:\n",
    "    print(a[0])\n",
    "    print(a[1])\n",
    "    print(\"====\\n\")\n",
    "    "
   ]
  },
  {
   "cell_type": "code",
   "execution_count": 10,
   "id": "0bf6718c-cde1-440f-abd2-cf9e3b180256",
   "metadata": {},
   "outputs": [
    {
     "data": {
      "text/markdown": [
       "The current stock price of Apple Inc. (AAPL) is $192.48."
      ],
      "text/plain": [
       "<IPython.core.display.Markdown object>"
      ]
     },
     "metadata": {},
     "output_type": "display_data"
    }
   ],
   "source": [
    "@prompt_chain(\n",
    "    \"You are a helpful financial agent that can use function calling to retrieve data.\\nUser Query: {query}\",\n",
    "    functions=[obb.equity.price.quote],\n",
    "    model=OpenaiChatModel(model=MODEL)\n",
    ")\n",
    "def llm(query: str) -> FunctionCall | str:\n",
    "    return None\n",
    "\n",
    "r = llm(query=\"What is the current stock price of AAPL?\")\n",
    "\n",
    "display(Markdown(r))"
   ]
  },
  {
   "cell_type": "code",
   "execution_count": 32,
   "id": "d9fe9e8a-3956-4cca-bbc1-b2131ec4a954",
   "metadata": {},
   "outputs": [
    {
     "data": {
      "text/plain": [
       "\"{'openapi': '3.1.0', 'info': {'title': 'OpenBB Platform API', 'description': 'This is the OpenBB Platform API.', 'termsOfService': 'http://example.com/terms/', 'contact': {'name': 'OpenBB Team', 'url': 'https://openbb.co/', 'email': 'hello@openbb.co'}, 'license': {'name': 'MIT', 'url': 'https://github.com/OpenBB-finance/OpenBBTerminal/blob/develop/LICENSE'}, 'version': '1'}, 'servers': [{'url': 'http://localhost:8000', 'description': 'Local OpenBB development server'}], 'paths': {'/api/v1/commodity/lbma_fixing': {'get': {'tags': ['commodity'], 'summary': 'Lbma Fixing', 'description': 'Daily LBMA Fixing Prices in USD/EUR/GBP.', 'operationId': 'commodity_lbma_fixing', 'parameters': [{'name': 'provider', 'in': 'query', 'required': False, 'schema': {'enum': ['nasdaq'], 'const': 'nasdaq', 'type': 'string', 'default': 'nasdaq', 'title': 'Provider'}}, {'name': 'asset', 'in': 'query', 'required': False, 'schema': {'enum': ['gold', 'silver'], 'type': 'string', 'description': 'The metal to get price fixing rates for.', 'default': 'gold', 'title': 'Asset'}, 'description': 'The metal to get price fixing rates for.'}, {'name': 'start_date', 'in': 'query', 'required': False, 'schema': {'anyOf': [{'type': 'string', 'format': 'date'}, {'type': 'null'}], 'description': 'Start date of the data, in YYYY-MM-DD format.', 'title': 'Start Date'}, 'description': 'Start date of the data, in YYYY-MM-DD format.'}, {'name': 'end_date', 'in': 'query', 'required': False, 'schema': {'anyOf': [{'type': 'string', 'format': 'date'}, {'type': 'null'}], 'description': 'Start date of the data, in YYYY-MM-DD format.', 'title': 'End Date'}, 'description': 'Start date of the data, in YYYY-MM-DD format.'}, {'name': 'transform', 'in': 'query', 'required': False, 'schema': {'enum': ['diff', 'rdiff', 'cumul', 'normalize', None], 'description': 'Transform the data as difference, percent change, cumulative, or normalize.', 'title': 'Transform'}, 'description': 'Transform the data as difference, percent change, \""
      ]
     },
     "execution_count": 32,
     "metadata": {},
     "output_type": "execute_result"
    }
   ],
   "source": [
    "# load the OpenAPI / swagger spec from\n",
    "# http://127.0.0.1:8000/openapi.json\n",
    "with open(\"openapi.json\", 'r') as file:\n",
    "    data = json.load(file)\n",
    "\n",
    "str(data)[:2000]\n"
   ]
  },
  {
   "cell_type": "code",
   "execution_count": 33,
   "id": "b0ea067a-3b7e-4c50-aa87-c1a4baf07001",
   "metadata": {},
   "outputs": [
    {
     "name": "stdout",
     "output_type": "stream",
     "text": [
      "/api/v1/equity/calendar/ipo\n",
      "/api/v1/equity/calendar/dividend\n",
      "/api/v1/equity/calendar/splits\n",
      "/api/v1/equity/calendar/earnings\n",
      "/api/v1/equity/compare/peers\n",
      "/api/v1/equity/compare/groups\n",
      "/api/v1/equity/estimates/price_target\n",
      "/api/v1/equity/estimates/historical\n",
      "/api/v1/equity/estimates/consensus\n",
      "/api/v1/equity/estimates/analyst_search\n",
      "/api/v1/equity/estimates/forward_sales\n",
      "/api/v1/equity/estimates/forward_eps\n",
      "/api/v1/equity/darkpool/otc\n",
      "/api/v1/equity/discovery/gainers\n",
      "/api/v1/equity/discovery/losers\n",
      "/api/v1/equity/discovery/active\n",
      "/api/v1/equity/discovery/undervalued_large_caps\n",
      "/api/v1/equity/discovery/undervalued_growth\n",
      "/api/v1/equity/discovery/aggressive_small_caps\n",
      "/api/v1/equity/discovery/growth_tech\n",
      "/api/v1/equity/discovery/top_retail\n",
      "/api/v1/equity/discovery/upcoming_release_days\n",
      "/api/v1/equity/discovery/filings\n",
      "/api/v1/equity/fundamental/multiples\n",
      "/api/v1/equity/fundamental/balance\n",
      "/api/v1/equity/fundamental/balance_growth\n",
      "/api/v1/equity/fundamental/cash\n",
      "/api/v1/equity/fundamental/reported_financials\n",
      "/api/v1/equity/fundamental/cash_growth\n",
      "/api/v1/equity/fundamental/dividends\n",
      "/api/v1/equity/fundamental/historical_eps\n",
      "/api/v1/equity/fundamental/employee_count\n",
      "/api/v1/equity/fundamental/search_attributes\n",
      "/api/v1/equity/fundamental/latest_attributes\n",
      "/api/v1/equity/fundamental/historical_attributes\n",
      "/api/v1/equity/fundamental/income\n",
      "/api/v1/equity/fundamental/income_growth\n",
      "/api/v1/equity/fundamental/metrics\n",
      "/api/v1/equity/fundamental/management\n",
      "/api/v1/equity/fundamental/management_compensation\n",
      "/api/v1/equity/fundamental/overview\n",
      "/api/v1/equity/fundamental/ratios\n",
      "/api/v1/equity/fundamental/revenue_per_geography\n",
      "/api/v1/equity/fundamental/revenue_per_segment\n",
      "/api/v1/equity/fundamental/filings\n",
      "/api/v1/equity/fundamental/historical_splits\n",
      "/api/v1/equity/fundamental/transcript\n",
      "/api/v1/equity/fundamental/trailing_dividend_yield\n",
      "/api/v1/equity/ownership/major_holders\n",
      "/api/v1/equity/ownership/institutional\n",
      "/api/v1/equity/ownership/insider_trading\n",
      "/api/v1/equity/ownership/share_statistics\n",
      "/api/v1/equity/ownership/form_13f\n",
      "/api/v1/equity/price/quote\n",
      "/api/v1/equity/price/nbbo\n",
      "/api/v1/equity/price/historical\n",
      "/api/v1/equity/price/performance\n",
      "/api/v1/equity/shorts/fails_to_deliver\n",
      "/api/v1/equity/shorts/short_volume\n",
      "/api/v1/equity/shorts/short_interest\n",
      "/api/v1/equity/search\n",
      "/api/v1/equity/screener\n",
      "/api/v1/equity/profile\n",
      "/api/v1/equity/market_snapshots\n",
      "/api/v1/etf/equity_exposure\n"
     ]
    }
   ],
   "source": [
    "# list all the equity functions\n",
    "for path_str, fn_json in data['paths'].items():\n",
    "    if path_str.find('equity') != -1:\n",
    "        print(path_str)\n"
   ]
  },
  {
   "cell_type": "code",
   "execution_count": 34,
   "id": "137bc44a-9bea-42c4-b6e7-20cc0c17e2e2",
   "metadata": {},
   "outputs": [
    {
     "data": {
      "text/plain": [
       "{'get': {'tags': ['equity'],\n",
       "  'summary': 'Search',\n",
       "  'description': 'Search for stock symbol, CIK, LEI, or company name.',\n",
       "  'operationId': 'equity_search',\n",
       "  'parameters': [{'name': 'provider',\n",
       "    'in': 'query',\n",
       "    'required': True,\n",
       "    'schema': {'enum': ['cboe', 'intrinio', 'nasdaq', 'sec', 'tmx', 'tradier'],\n",
       "     'type': 'string',\n",
       "     'title': 'Provider'}},\n",
       "   {'name': 'query',\n",
       "    'in': 'query',\n",
       "    'required': False,\n",
       "    'schema': {'type': 'string',\n",
       "     'description': 'Search query.',\n",
       "     'default': '',\n",
       "     'title': 'Query'},\n",
       "    'description': 'Search query.'},\n",
       "   {'name': 'is_symbol',\n",
       "    'in': 'query',\n",
       "    'required': False,\n",
       "    'schema': {'type': 'boolean',\n",
       "     'description': 'Whether to search by ticker symbol.',\n",
       "     'default': False,\n",
       "     'title': 'Is Symbol'},\n",
       "    'description': 'Whether to search by ticker symbol.'},\n",
       "   {'name': 'use_cache',\n",
       "    'in': 'query',\n",
       "    'required': False,\n",
       "    'schema': {'anyOf': [{'type': 'boolean'}, {'type': 'null'}],\n",
       "     'description': 'Whether to use the cache or not.',\n",
       "     'default': True,\n",
       "     'title': 'Use Cache'},\n",
       "    'description': 'Whether to use the cache or not.'},\n",
       "   {'name': 'active',\n",
       "    'in': 'query',\n",
       "    'required': False,\n",
       "    'schema': {'anyOf': [{'type': 'boolean'}, {'type': 'null'}],\n",
       "     'title': 'intrinio',\n",
       "     'description': 'When true, return companies that are actively traded (having stock prices within the past 14 days). When false, return companies that are not actively traded or never have been traded. (provider: intrinio)',\n",
       "     'default': True},\n",
       "    'description': 'When true, return companies that are actively traded (having stock prices within the past 14 days). When false, return companies that are not actively traded or never have been traded. (provider: intrinio)'},\n",
       "   {'name': 'limit',\n",
       "    'in': 'query',\n",
       "    'required': False,\n",
       "    'schema': {'anyOf': [{'type': 'integer'}, {'type': 'null'}],\n",
       "     'title': 'intrinio',\n",
       "     'description': 'The number of data entries to return. (provider: intrinio)',\n",
       "     'default': 10000},\n",
       "    'description': 'The number of data entries to return. (provider: intrinio)'},\n",
       "   {'name': 'is_etf',\n",
       "    'in': 'query',\n",
       "    'required': False,\n",
       "    'schema': {'anyOf': [{'type': 'boolean'}, {'type': 'null'}],\n",
       "     'title': 'nasdaq',\n",
       "     'description': 'If True, returns ETFs. (provider: nasdaq)'},\n",
       "    'description': 'If True, returns ETFs. (provider: nasdaq)'},\n",
       "   {'name': 'is_fund',\n",
       "    'in': 'query',\n",
       "    'required': False,\n",
       "    'schema': {'type': 'boolean',\n",
       "     'title': 'sec',\n",
       "     'description': 'Whether to direct the search to the list of mutual funds and ETFs. (provider: sec)',\n",
       "     'default': False},\n",
       "    'description': 'Whether to direct the search to the list of mutual funds and ETFs. (provider: sec)'}],\n",
       "  'responses': {'200': {'description': 'Successful Response',\n",
       "    'content': {'application/json': {'schema': {'$ref': '#/components/schemas/OBBject_EquitySearch'}}}},\n",
       "   '404': {'description': 'Not found'},\n",
       "   '400': {'description': 'No Results Found',\n",
       "    'content': {'application/json': {'schema': {'$ref': '#/components/schemas/OpenBBErrorResponse'}}}},\n",
       "   '500': {'description': 'Internal Error',\n",
       "    'content': {'application/json': {'schema': {'$ref': '#/components/schemas/OpenBBErrorResponse'}}}},\n",
       "   '422': {'description': 'Validation Error',\n",
       "    'content': {'application/json': {'schema': {'$ref': '#/components/schemas/HTTPValidationError'}}}}},\n",
       "  'model': 'EquitySearch',\n",
       "  'examples': [{'scope': 'api',\n",
       "    'parameters': {'provider': 'intrinio'},\n",
       "    'provider': 'intrinio'},\n",
       "   {'scope': 'api',\n",
       "    'parameters': {'query': 'AAPL',\n",
       "     'is_symbol': 0.0,\n",
       "     'use_cache': 1.0,\n",
       "     'provider': 'nasdaq'},\n",
       "    'provider': 'nasdaq'}]}}"
      ]
     },
     "execution_count": 34,
     "metadata": {},
     "output_type": "execute_result"
    }
   ],
   "source": [
    "data['paths']['/api/v1/equity/search']\n"
   ]
  },
  {
   "cell_type": "code",
   "execution_count": 12,
   "id": "6f86cbac-2af2-46a2-b65f-52d40107b1f7",
   "metadata": {},
   "outputs": [
    {
     "data": {
      "text/plain": [
       "OBBject\n",
       "\n",
       "id: 0665a8cb-e3ba-7cc4-8000-bfc551f67ede\n",
       "results: [{'symbol': 'MRK', 'name': 'MERCK & CO INC COM', 'dpm_name': 'Wolverine Tr...\n",
       "provider: cboe\n",
       "warnings: None\n",
       "chart: None\n",
       "extra: {'metadata': {'arguments': {'provider_choices': {'provider': 'cboe'}, 'stand..."
      ]
     },
     "execution_count": 12,
     "metadata": {},
     "output_type": "execute_result"
    }
   ],
   "source": [
    "obb.equity.search(query=\"Merck\")"
   ]
  },
  {
   "cell_type": "code",
   "execution_count": 26,
   "id": "75f87ac2-f702-4a71-8a48-92a734289d22",
   "metadata": {},
   "outputs": [
    {
     "data": {
      "text/plain": [
       "OBBject\n",
       "\n",
       "id: 0665a8e7-aefb-700b-8000-f20af2517f21\n",
       "results: [{'symbol': 'MRK', 'name': 'Merck & Co., Inc.', 'cik': '310158'}]\n",
       "provider: sec\n",
       "warnings: None\n",
       "chart: None\n",
       "extra: {'metadata': {'arguments': {'provider_choices': {'provider': 'sec'}, 'standa..."
      ]
     },
     "execution_count": 26,
     "metadata": {},
     "output_type": "execute_result"
    }
   ],
   "source": [
    "# use partial to fix issues with default provider\n",
    "from functools import partial\n",
    "# Create a partial function with provider defaulting to 'sec'\n",
    "obb_equity_search_sec = partial(obb.equity.search, provider='sec')\n",
    "obb_equity_search_sec.__name__ = \"obb_equity_search_sec\"\n",
    "# call the partial function with just the 'query' argument\n",
    "result = obb_equity_search_sec(query=\"Merck\")\n",
    "result"
   ]
  },
  {
   "cell_type": "code",
   "execution_count": 124,
   "id": "e208d567-35fa-4825-9bf7-4f9958b68251",
   "metadata": {},
   "outputs": [
    {
     "data": {
      "text/markdown": [
       "The stock symbol for Merck & Co., Inc. is **MRK**."
      ],
      "text/plain": [
       "<IPython.core.display.Markdown object>"
      ]
     },
     "metadata": {},
     "output_type": "display_data"
    }
   ],
   "source": [
    "@prompt_chain(\n",
    "    \"You are a helpful financial agent that can use function calling to retrieve data.\\nUser Query: {query}\",\n",
    "    functions=[obb_equity_search_sec,\n",
    "               obb.equity.price.quote,\n",
    "               obb.equity.profile, \n",
    "               obb.equity.fundamental.historical_splits, \n",
    "               obb.equity.fundamental.balance, \n",
    "               obb.equity.fundamental.income, \n",
    "               obb.equity.fundamental.cash, \n",
    "               obb.equity.fundamental.metrics,\n",
    "               obb.equity.fundamental.ratios, \n",
    "               obb.equity.fundamental.multiples, \n",
    "               obb.equity.fundamental.dividends,\n",
    "               obb.equity.fundamental.trailing_dividend_yield,\n",
    "               obb.equity.price.performance,\n",
    "               obb.etf.equity_exposure               \n",
    "              ],\n",
    "    model=OpenaiChatModel(model=MODEL)\n",
    ")\n",
    "def llm(query: str) -> FunctionCall | str:\n",
    "    return None\n",
    "\n",
    "r = llm(query=\"What is the stock symbol for Merck?\")\n",
    "display(Markdown(r))\n"
   ]
  },
  {
   "cell_type": "code",
   "execution_count": 91,
   "id": "c9e2f9e5-3843-4cfd-9492-30d2d7cb4316",
   "metadata": {},
   "outputs": [
    {
     "data": {
      "text/markdown": [
       "It seems there were no results for the stock symbol search for \"Delta Airlines\" using the SEC database. Let me try again without restricting the search to symbols only."
      ],
      "text/plain": [
       "<IPython.core.display.Markdown object>"
      ]
     },
     "metadata": {},
     "output_type": "display_data"
    }
   ],
   "source": [
    "r = llm(query=\"What is the stock symbol for Delta airlines?\")\n",
    "display(Markdown(r))\n"
   ]
  },
  {
   "cell_type": "code",
   "execution_count": 92,
   "id": "30e36e9b-71a1-4482-9057-b43b3f36381b",
   "metadata": {},
   "outputs": [
    {
     "data": {
      "text/markdown": [
       "It appears that there were no results for \"Yakimee Airlines\" using the search query provided. This could mean that either the company does not exist or is not listed under this name. If you have any other details or another company to look up, please let me know!"
      ],
      "text/plain": [
       "<IPython.core.display.Markdown object>"
      ]
     },
     "metadata": {},
     "output_type": "display_data"
    }
   ],
   "source": [
    "r = llm(query=\"What is the stock symbol for yakimee airlines?\")\n",
    "display(Markdown(r))\n"
   ]
  },
  {
   "cell_type": "code",
   "execution_count": 93,
   "id": "7d963d77-c2f0-4c34-a17b-33ce2b3793c8",
   "metadata": {},
   "outputs": [
    {
     "data": {
      "text/markdown": [
       "The latest market quote for the symbol MRK (Merck & Co., Inc.) is as follows:\n",
       "\n",
       "- **Last Price:** \\$125.54\n",
       "- **Bid Price:** \\$125.56\n",
       "- **Ask Price:** \\$131.03\n",
       "- **Open:** \\$125.06\n",
       "- **High:** \\$126.61\n",
       "- **Low:** \\$124.55\n",
       "- **Close:** \\$125.54\n",
       "- **Volume:** 18,150,300\n",
       "- **Change:** \\$1.01\n",
       "- **Change Percent:** 0.80%\n",
       "- **52 Week High:** \\$133.10\n",
       "- **52 Week Low:** \\$99.14"
      ],
      "text/plain": [
       "<IPython.core.display.Markdown object>"
      ]
     },
     "metadata": {},
     "output_type": "display_data"
    }
   ],
   "source": [
    "r = llm(query=f\"What is the last market quote for symbol {symbol}?\")\n",
    "display(Markdown(r.replace(\"$\", \"\\$\")))\n"
   ]
  },
  {
   "cell_type": "code",
   "execution_count": 94,
   "id": "fd5098c3-d5ba-4970-ac71-a7fa84d5f9a6",
   "metadata": {},
   "outputs": [
    {
     "data": {
      "text/markdown": [
       "The latest market quote for Merck & Co., Inc. (MRK) is as follows:\n",
       "\n",
       "- **Last Price:** \\$125.54\n",
       "- **Change:** +\\$1.01\n",
       "- **Change Percent:** +0.80%\n",
       "- **Open:** \\$125.06\n",
       "- **High:** \\$126.61\n",
       "- **Low:** \\$124.55\n",
       "- **Close:** \\$125.54\n",
       "- **Volume:** 18,150,300\n",
       "- **Year High:** \\$133.10\n",
       "- **Year Low:** \\$99.14"
      ],
      "text/plain": [
       "<IPython.core.display.Markdown object>"
      ]
     },
     "metadata": {},
     "output_type": "display_data"
    }
   ],
   "source": [
    "r = llm(query=f\"What is the last market quote for company {company}?\")\n",
    "display(Markdown(r.replace(\"$\", \"\\$\")))\n"
   ]
  },
  {
   "cell_type": "code",
   "execution_count": 36,
   "id": "17fa8727-bdbd-434c-b754-1842f64e99f8",
   "metadata": {},
   "outputs": [
    {
     "data": {
      "text/markdown": [
       "The last market quote for \"Consolidated Agglomerators\" (AGG) is as follows:\n",
       "\n",
       "- **Last Price:** \\$96.52\n",
       "- **Open Price:** \\$96.46\n",
       "- **High Price:** \\$96.59\n",
       "- **Low Price:** \\$96.41\n",
       "- **Close Price:** \\$96.52\n",
       "- **Volume:** 8,762,935 shares\n",
       "\n",
       "### Bid and Ask Information:\n",
       "- **Bid Price:** \\$96.26 (Size: 7)\n",
       "- **Ask Price:** \\$96.76 (Size: 8)\n",
       "\n",
       "### Additional Data:\n",
       "- **Year High:** \\$99.70\n",
       "- **Year Low:** \\$91.58\n",
       "\n",
       "If you need more detailed or specific information, feel free to ask!"
      ],
      "text/plain": [
       "<IPython.core.display.Markdown object>"
      ]
     },
     "metadata": {},
     "output_type": "display_data"
    }
   ],
   "source": [
    "# nonexistent company\n",
    "r = llm(query=f\"What is the last market quote for Consolidated Agglomerators\")\n",
    "display(Markdown(r.replace(\"$\", \"\\$\")))\n"
   ]
  },
  {
   "cell_type": "code",
   "execution_count": 87,
   "id": "691d6eca-f545-4ed9-a34d-c19704c72ccd",
   "metadata": {},
   "outputs": [
    {
     "data": {
      "text/markdown": [
       "### Company Profile: Merck & Co., Inc. (Ticker: MRK)\n",
       "\n",
       "**Basic Information:**\n",
       "- **Name:** Merck & Co., Inc.\n",
       "- **Symbol:** MRK\n",
       "- **Stock Exchange:** NYSE\n",
       "- **Sector:** Healthcare\n",
       "- **Industry Category:** Drug Manufacturers - General\n",
       "- **Headquarters:** Rahway, NJ, USA\n",
       "- **Employees:** 72,000\n",
       "\n",
       "**Business Summary:**\n",
       "Merck & Co., Inc. is a health care company engaged in providing health solutions through its prescription medicines, vaccines, biologic therapies, animal health, and consumer care products. The company operates through the following segments:\n",
       "\n",
       "- **Pharmaceutical:** Human health pharmaceutical and vaccine products.\n",
       "- **Animal Health:** Development, manufacture, and marketing of animal health products such as pharmaceutical and vaccine products for disease prevention, treatment, and control in livestock and companion animals.\n",
       "- **Other:** Sales for the non-reportable segments of healthcare services.\n",
       "\n",
       "**Financial Information:**\n",
       "- **Shares Outstanding:** 2.53 Billion\n",
       "- **Shares Float:** 2.53 Billion\n",
       "- **Short Interest:** 20.27 Million\n",
       "- **Institutional Ownership:** 78.69%\n",
       "- **Market Cap:** \\$317.97 Billion\n",
       "- **Index:** DJIA, S&P 500\n",
       "- **Earnings Date:** April 25 BMO\n",
       "- **Beta:** 0.41\n",
       "\n",
       "Merck & Co., Inc. was founded in 1891. For more detailed financial data and other specific information, additional resources may be required."
      ],
      "text/plain": [
       "<IPython.core.display.Markdown object>"
      ]
     },
     "metadata": {},
     "output_type": "display_data"
    }
   ],
   "source": [
    "r = llm(query=f\"Can you provide a basic company profile of symbol {symbol}\")\n",
    "\n",
    "display(Markdown(r.replace(\"$\", \"\\$\")))\n"
   ]
  },
  {
   "cell_type": "code",
   "execution_count": 42,
   "id": "040be374-f8c2-4453-9ded-4abab760db1d",
   "metadata": {},
   "outputs": [],
   "source": [
    "# tool = BB_agent_tool(\n",
    "#     name=\"get_equity_shorts_short_interest\",\n",
    "#     description=\"Given a stock symbol, get data on short volume and days to cover in JSON format.\",\n",
    "#     openapi_path='/api/v1/equity/shorts/short_interest',\n",
    "#     parameters={\n",
    "#         \"symbol\": {\n",
    "#             \"type\": \"string\",\n",
    "#             \"description\": \"The stock symbol.\"\n",
    "#         }\n",
    "#         },\n",
    "#     default_parameters={\n",
    "#     },    \n",
    "#     example_parameter_values=[{\n",
    "#         \"symbol\": \"NVDA\",\n",
    "#     }],\n",
    "# )\n",
    "\n",
    "# agent_query(client, f\"Provide latest statistics on short interest for symbol {symbol}\", verbose=False)\n"
   ]
  },
  {
   "cell_type": "code",
   "execution_count": 89,
   "id": "0d23319a-0b0c-402e-9b84-f7b7fd4fb25c",
   "metadata": {},
   "outputs": [
    {
     "data": {
      "text/markdown": [
       "Here are the historical stock splits for Apple Inc. (AAPL):\n",
       "\n",
       "1. **August 31, 2020**\n",
       "   - Split ratio: 4-for-1\n",
       "\n",
       "2. **June 09, 2014**\n",
       "   - Split ratio: 7-for-1\n",
       "\n",
       "3. **February 28, 2005**\n",
       "   - Split ratio: 2-for-1\n",
       "\n",
       "4. **June 21, 2000**\n",
       "   - Split ratio: 2-for-1\n",
       "\n",
       "5. **June 16, 1987**\n",
       "   - Split ratio: 2-for-1\n",
       "\n",
       "If you need any more information, feel free to ask!"
      ],
      "text/plain": [
       "<IPython.core.display.Markdown object>"
      ]
     },
     "metadata": {},
     "output_type": "display_data"
    }
   ],
   "source": [
    "r = llm(query=f\"Can you provide historical split information for symbol AAPL\")\n",
    "display(Markdown(r.replace(\"$\", \"\\$\")))\n"
   ]
  },
  {
   "cell_type": "code",
   "execution_count": 95,
   "id": "11acabf1-8fbb-419a-8eac-5146173660a3",
   "metadata": {},
   "outputs": [
    {
     "data": {
      "text/markdown": [
       "The latest total assets for the symbol MRK (Merck & Co., Inc.) are \\$106.675 billion, as of the fiscal year ending on December 31, 2023."
      ],
      "text/plain": [
       "<IPython.core.display.Markdown object>"
      ]
     },
     "metadata": {},
     "output_type": "display_data"
    }
   ],
   "source": [
    "r = llm(query=f\"what are the latest total assets for symbol {symbol}\")\n",
    "display(Markdown(r.replace(\"$\", \"\\$\")))\n"
   ]
  },
  {
   "cell_type": "code",
   "execution_count": 96,
   "id": "8ff5c872-de7a-4c88-828f-c983b7ed30fb",
   "metadata": {},
   "outputs": [
    {
     "data": {
      "text/markdown": [
       "For fiscal year ending December 31, 2022, the total assets for Merck & Co., Inc. (symbol: MRK) are \\$109.16 billion.\n",
       "\n",
       "You can view the detailed report [here](https://www.sec.gov/Archives/edgar/data/310158/000162828023005061/mrk-20221231.htm)."
      ],
      "text/plain": [
       "<IPython.core.display.Markdown object>"
      ]
     },
     "metadata": {},
     "output_type": "display_data"
    }
   ],
   "source": [
    "r = llm(query=f\"what are the total assets for fiscal year ending December 31, 2022 for symbol {symbol}\")\n",
    "display(Markdown(r.replace(\"$\", \"\\$\")))\n"
   ]
  },
  {
   "cell_type": "code",
   "execution_count": 97,
   "id": "d321ef20-4a96-4812-88db-8c1744ca84ea",
   "metadata": {},
   "outputs": [
    {
     "data": {
      "text/markdown": [
       "The latest cash flow from operations for Merck & Co., Inc. (symbol: MRK) was \\$13,006,000,000 for the fiscal year ending on December 31, 2023.\n",
       "\n",
       "For more details, you can view the [SEC filing here](https://www.sec.gov/Archives/edgar/data/310158/000119312524093194/d807955d10ka.htm)."
      ],
      "text/plain": [
       "<IPython.core.display.Markdown object>"
      ]
     },
     "metadata": {},
     "output_type": "display_data"
    }
   ],
   "source": [
    "r = llm(query=f\"what was the latest cash flow from operations for symbol {symbol}\")\n",
    "display(Markdown(r.replace(\"$\", \"\\$\")))\n"
   ]
  },
  {
   "cell_type": "code",
   "execution_count": 103,
   "id": "2ba427b5-9b74-498c-aee8-0f4518cf25c6",
   "metadata": {},
   "outputs": [
    {
     "ename": "OpenBBError",
     "evalue": "\n[Error] -> 2 validations error(s)\n[Arg] 2 -> input: 1 -> Input should be a valid string\n[Arg] 3 -> input: fmp -> Input should be a valid integer, unable to parse string as an integer",
     "output_type": "error",
     "traceback": [
      "\u001b[0;31m---------------------------------------------------------------------------\u001b[0m",
      "\u001b[0;31mOpenBBError\u001b[0m                               Traceback (most recent call last)",
      "Cell \u001b[0;32mIn[103], line 1\u001b[0m\n\u001b[0;32m----> 1\u001b[0m r \u001b[38;5;241m=\u001b[39m \u001b[43mllm\u001b[49m\u001b[43m(\u001b[49m\u001b[43mquery\u001b[49m\u001b[38;5;241;43m=\u001b[39;49m\u001b[38;5;124;43mf\u001b[39;49m\u001b[38;5;124;43m\"\u001b[39;49m\u001b[38;5;124;43mwhat was the latest net income for symbol MRK\u001b[39;49m\u001b[38;5;124;43m\"\u001b[39;49m\u001b[43m)\u001b[49m\n\u001b[1;32m      2\u001b[0m display(Markdown(r\u001b[38;5;241m.\u001b[39mreplace(\u001b[38;5;124m\"\u001b[39m\u001b[38;5;124m$\u001b[39m\u001b[38;5;124m\"\u001b[39m, \u001b[38;5;124m\"\u001b[39m\u001b[38;5;124m\\\u001b[39m\u001b[38;5;124m$\u001b[39m\u001b[38;5;124m\"\u001b[39m)))\n",
      "File \u001b[0;32m/opt/anaconda3/envs/openbb_agent/lib/python3.11/site-packages/magentic/prompt_chain.py:83\u001b[0m, in \u001b[0;36mprompt_chain.<locals>.decorator.<locals>.wrapper\u001b[0;34m(*args, **kwargs)\u001b[0m\n\u001b[1;32m     78\u001b[0m         msg \u001b[38;5;241m=\u001b[39m (\n\u001b[1;32m     79\u001b[0m             \u001b[38;5;124mf\u001b[39m\u001b[38;5;124m\"\u001b[39m\u001b[38;5;124mFunction \u001b[39m\u001b[38;5;132;01m{\u001b[39;00mfunc\u001b[38;5;241m.\u001b[39m\u001b[38;5;18m__name__\u001b[39m\u001b[38;5;132;01m}\u001b[39;00m\u001b[38;5;124m reached limit of\u001b[39m\u001b[38;5;124m\"\u001b[39m\n\u001b[1;32m     80\u001b[0m             \u001b[38;5;124mf\u001b[39m\u001b[38;5;124m\"\u001b[39m\u001b[38;5;124m \u001b[39m\u001b[38;5;132;01m{\u001b[39;00mmax_calls\u001b[38;5;132;01m}\u001b[39;00m\u001b[38;5;124m function calls\u001b[39m\u001b[38;5;124m\"\u001b[39m\n\u001b[1;32m     81\u001b[0m         )\n\u001b[1;32m     82\u001b[0m         \u001b[38;5;28;01mraise\u001b[39;00m MaxFunctionCallsError(msg)\n\u001b[0;32m---> 83\u001b[0m     chat \u001b[38;5;241m=\u001b[39m \u001b[43mchat\u001b[49m\u001b[38;5;241;43m.\u001b[39;49m\u001b[43mexec_function_call\u001b[49m\u001b[43m(\u001b[49m\u001b[43m)\u001b[49m\u001b[38;5;241m.\u001b[39msubmit()\n\u001b[1;32m     84\u001b[0m     num_calls \u001b[38;5;241m+\u001b[39m\u001b[38;5;241m=\u001b[39m \u001b[38;5;241m1\u001b[39m\n\u001b[1;32m     85\u001b[0m \u001b[38;5;28;01mreturn\u001b[39;00m cast(R, chat\u001b[38;5;241m.\u001b[39mlast_message\u001b[38;5;241m.\u001b[39mcontent)\n",
      "File \u001b[0;32m/opt/anaconda3/envs/openbb_agent/lib/python3.11/site-packages/magentic/chat.py:115\u001b[0m, in \u001b[0;36mChat.exec_function_call\u001b[0;34m(self)\u001b[0m\n\u001b[1;32m    113\u001b[0m \u001b[38;5;28;01mif\u001b[39;00m \u001b[38;5;28misinstance\u001b[39m(\u001b[38;5;28mself\u001b[39m\u001b[38;5;241m.\u001b[39mlast_message\u001b[38;5;241m.\u001b[39mcontent, FunctionCall):\n\u001b[1;32m    114\u001b[0m     function_call \u001b[38;5;241m=\u001b[39m \u001b[38;5;28mself\u001b[39m\u001b[38;5;241m.\u001b[39mlast_message\u001b[38;5;241m.\u001b[39mcontent\n\u001b[0;32m--> 115\u001b[0m     result \u001b[38;5;241m=\u001b[39m \u001b[43mfunction_call\u001b[49m\u001b[43m(\u001b[49m\u001b[43m)\u001b[49m\n\u001b[1;32m    116\u001b[0m     \u001b[38;5;28;01mreturn\u001b[39;00m \u001b[38;5;28mself\u001b[39m\u001b[38;5;241m.\u001b[39madd_message(\n\u001b[1;32m    117\u001b[0m         FunctionResultMessage(content\u001b[38;5;241m=\u001b[39mresult, function_call\u001b[38;5;241m=\u001b[39mfunction_call)\n\u001b[1;32m    118\u001b[0m     )\n\u001b[1;32m    120\u001b[0m \u001b[38;5;28;01mif\u001b[39;00m \u001b[38;5;28misinstance\u001b[39m(\u001b[38;5;28mself\u001b[39m\u001b[38;5;241m.\u001b[39mlast_message\u001b[38;5;241m.\u001b[39mcontent, ParallelFunctionCall):\n",
      "File \u001b[0;32m/opt/anaconda3/envs/openbb_agent/lib/python3.11/site-packages/magentic/function_call.py:45\u001b[0m, in \u001b[0;36mFunctionCall.__call__\u001b[0;34m(self)\u001b[0m\n\u001b[1;32m     44\u001b[0m \u001b[38;5;28;01mdef\u001b[39;00m \u001b[38;5;21m__call__\u001b[39m(\u001b[38;5;28mself\u001b[39m) \u001b[38;5;241m-\u001b[39m\u001b[38;5;241m>\u001b[39m T:\n\u001b[0;32m---> 45\u001b[0m     \u001b[38;5;28;01mreturn\u001b[39;00m \u001b[38;5;28;43mself\u001b[39;49m\u001b[38;5;241;43m.\u001b[39;49m\u001b[43m_function\u001b[49m\u001b[43m(\u001b[49m\u001b[38;5;241;43m*\u001b[39;49m\u001b[38;5;28;43mself\u001b[39;49m\u001b[38;5;241;43m.\u001b[39;49m\u001b[43m_args\u001b[49m\u001b[43m,\u001b[49m\u001b[43m \u001b[49m\u001b[38;5;241;43m*\u001b[39;49m\u001b[38;5;241;43m*\u001b[39;49m\u001b[38;5;28;43mself\u001b[39;49m\u001b[38;5;241;43m.\u001b[39;49m\u001b[43m_kwargs\u001b[49m\u001b[43m)\u001b[49m\n",
      "File \u001b[0;32m/opt/anaconda3/envs/openbb_agent/lib/python3.11/site-packages/openbb_core/app/static/utils/decorators.py:76\u001b[0m, in \u001b[0;36mexception_handler.<locals>.wrapper\u001b[0;34m(*f_args, **f_kwargs)\u001b[0m\n\u001b[1;32m     74\u001b[0m     error_list\u001b[38;5;241m.\u001b[39minsert(\u001b[38;5;241m0\u001b[39m, validation_error)\n\u001b[1;32m     75\u001b[0m     error_str \u001b[38;5;241m=\u001b[39m \u001b[38;5;124m\"\u001b[39m\u001b[38;5;130;01m\\n\u001b[39;00m\u001b[38;5;124m\"\u001b[39m\u001b[38;5;241m.\u001b[39mjoin(error_list)\n\u001b[0;32m---> 76\u001b[0m     \u001b[38;5;28;01mraise\u001b[39;00m OpenBBError(\u001b[38;5;124mf\u001b[39m\u001b[38;5;124m\"\u001b[39m\u001b[38;5;130;01m\\n\u001b[39;00m\u001b[38;5;124m[Error] -> \u001b[39m\u001b[38;5;132;01m{\u001b[39;00merror_str\u001b[38;5;132;01m}\u001b[39;00m\u001b[38;5;124m\"\u001b[39m)\u001b[38;5;241m.\u001b[39mwith_traceback(\n\u001b[1;32m     77\u001b[0m         tb\n\u001b[1;32m     78\u001b[0m     ) \u001b[38;5;28;01mfrom\u001b[39;00m \u001b[38;5;28;01mNone\u001b[39;00m\n\u001b[1;32m     79\u001b[0m \u001b[38;5;28;01mif\u001b[39;00m \u001b[38;5;28misinstance\u001b[39m(e, OpenBBError):\n\u001b[1;32m     80\u001b[0m     \u001b[38;5;28;01mraise\u001b[39;00m OpenBBError(\u001b[38;5;124mf\u001b[39m\u001b[38;5;124m\"\u001b[39m\u001b[38;5;130;01m\\n\u001b[39;00m\u001b[38;5;124m[Error] -> \u001b[39m\u001b[38;5;132;01m{\u001b[39;00m\u001b[38;5;28mstr\u001b[39m(e)\u001b[38;5;132;01m}\u001b[39;00m\u001b[38;5;124m\"\u001b[39m)\u001b[38;5;241m.\u001b[39mwith_traceback(tb) \u001b[38;5;28;01mfrom\u001b[39;00m \u001b[38;5;28;01mNone\u001b[39;00m\n",
      "File \u001b[0;32m/opt/anaconda3/envs/openbb_agent/lib/python3.11/site-packages/pydantic/_internal/_validate_call.py:81\u001b[0m, in \u001b[0;36mValidateCallWrapper.__call__\u001b[0;34m(self, *args, **kwargs)\u001b[0m\n\u001b[1;32m     80\u001b[0m \u001b[38;5;28;01mdef\u001b[39;00m \u001b[38;5;21m__call__\u001b[39m(\u001b[38;5;28mself\u001b[39m, \u001b[38;5;241m*\u001b[39margs: Any, \u001b[38;5;241m*\u001b[39m\u001b[38;5;241m*\u001b[39mkwargs: Any) \u001b[38;5;241m-\u001b[39m\u001b[38;5;241m>\u001b[39m Any:\n\u001b[0;32m---> 81\u001b[0m     res \u001b[38;5;241m=\u001b[39m \u001b[38;5;28mself\u001b[39m\u001b[38;5;241m.\u001b[39m__pydantic_validator__\u001b[38;5;241m.\u001b[39mvalidate_python(pydantic_core\u001b[38;5;241m.\u001b[39mArgsKwargs(args, kwargs))\n\u001b[1;32m     82\u001b[0m     \u001b[38;5;28;01mif\u001b[39;00m \u001b[38;5;28mself\u001b[39m\u001b[38;5;241m.\u001b[39m__return_pydantic_validator__:\n\u001b[1;32m     83\u001b[0m         \u001b[38;5;28;01mreturn\u001b[39;00m \u001b[38;5;28mself\u001b[39m\u001b[38;5;241m.\u001b[39m__return_pydantic_validator__(res)\n",
      "\u001b[0;31mOpenBBError\u001b[0m: \n[Error] -> 2 validations error(s)\n[Arg] 2 -> input: 1 -> Input should be a valid string\n[Arg] 3 -> input: fmp -> Input should be a valid integer, unable to parse string as an integer"
     ]
    }
   ],
   "source": [
    "r = llm(query=f\"what was the latest net income for symbol MRK\")\n",
    "display(Markdown(r.replace(\"$\", \"\\$\")))\n"
   ]
  },
  {
   "cell_type": "code",
   "execution_count": 102,
   "id": "68763715-564d-49c0-b2a2-1490f1db4125",
   "metadata": {},
   "outputs": [
    {
     "data": {
      "text/markdown": [
       "The latest PE (Price-to-Earnings) ratio for Merck & Co., Inc. (MRK) is **139.75**."
      ],
      "text/plain": [
       "<IPython.core.display.Markdown object>"
      ]
     },
     "metadata": {},
     "output_type": "display_data"
    }
   ],
   "source": [
    "r = llm(query=f\"what was the latest PE ratio for stock symbol MRK\")\n",
    "display(Markdown(r.replace(\"$\", \"\\$\")))\n"
   ]
  },
  {
   "cell_type": "code",
   "execution_count": 109,
   "id": "5daa5fb1-21ac-46d4-ac7b-521f6d841156",
   "metadata": {},
   "outputs": [
    {
     "ename": "OpenBBError",
     "evalue": "\n[Error] -> 2 validations error(s)\n[Arg] 2 -> input: 1 -> Input should be a valid string\n[Arg] 3 -> input: fmp -> Input should be a valid integer, unable to parse string as an integer",
     "output_type": "error",
     "traceback": [
      "\u001b[0;31m---------------------------------------------------------------------------\u001b[0m",
      "\u001b[0;31mOpenBBError\u001b[0m                               Traceback (most recent call last)",
      "Cell \u001b[0;32mIn[109], line 1\u001b[0m\n\u001b[0;32m----> 1\u001b[0m r \u001b[38;5;241m=\u001b[39m \u001b[43mllm\u001b[49m\u001b[43m(\u001b[49m\u001b[43mquery\u001b[49m\u001b[38;5;241;43m=\u001b[39;49m\u001b[38;5;124;43mf\u001b[39;49m\u001b[38;5;124;43m\"\u001b[39;49m\u001b[38;5;124;43mwhat was the most recent price to sales ratio for stock symbol \u001b[39;49m\u001b[38;5;132;43;01m{\u001b[39;49;00m\u001b[43msymbol\u001b[49m\u001b[38;5;132;43;01m}\u001b[39;49;00m\u001b[38;5;124;43m\"\u001b[39;49m\u001b[43m)\u001b[49m\n\u001b[1;32m      2\u001b[0m display(Markdown(r\u001b[38;5;241m.\u001b[39mreplace(\u001b[38;5;124m\"\u001b[39m\u001b[38;5;124m$\u001b[39m\u001b[38;5;124m\"\u001b[39m, \u001b[38;5;124m\"\u001b[39m\u001b[38;5;124m\\\u001b[39m\u001b[38;5;124m$\u001b[39m\u001b[38;5;124m\"\u001b[39m)))\n",
      "File \u001b[0;32m/opt/anaconda3/envs/openbb_agent/lib/python3.11/site-packages/magentic/prompt_chain.py:83\u001b[0m, in \u001b[0;36mprompt_chain.<locals>.decorator.<locals>.wrapper\u001b[0;34m(*args, **kwargs)\u001b[0m\n\u001b[1;32m     78\u001b[0m         msg \u001b[38;5;241m=\u001b[39m (\n\u001b[1;32m     79\u001b[0m             \u001b[38;5;124mf\u001b[39m\u001b[38;5;124m\"\u001b[39m\u001b[38;5;124mFunction \u001b[39m\u001b[38;5;132;01m{\u001b[39;00mfunc\u001b[38;5;241m.\u001b[39m\u001b[38;5;18m__name__\u001b[39m\u001b[38;5;132;01m}\u001b[39;00m\u001b[38;5;124m reached limit of\u001b[39m\u001b[38;5;124m\"\u001b[39m\n\u001b[1;32m     80\u001b[0m             \u001b[38;5;124mf\u001b[39m\u001b[38;5;124m\"\u001b[39m\u001b[38;5;124m \u001b[39m\u001b[38;5;132;01m{\u001b[39;00mmax_calls\u001b[38;5;132;01m}\u001b[39;00m\u001b[38;5;124m function calls\u001b[39m\u001b[38;5;124m\"\u001b[39m\n\u001b[1;32m     81\u001b[0m         )\n\u001b[1;32m     82\u001b[0m         \u001b[38;5;28;01mraise\u001b[39;00m MaxFunctionCallsError(msg)\n\u001b[0;32m---> 83\u001b[0m     chat \u001b[38;5;241m=\u001b[39m \u001b[43mchat\u001b[49m\u001b[38;5;241;43m.\u001b[39;49m\u001b[43mexec_function_call\u001b[49m\u001b[43m(\u001b[49m\u001b[43m)\u001b[49m\u001b[38;5;241m.\u001b[39msubmit()\n\u001b[1;32m     84\u001b[0m     num_calls \u001b[38;5;241m+\u001b[39m\u001b[38;5;241m=\u001b[39m \u001b[38;5;241m1\u001b[39m\n\u001b[1;32m     85\u001b[0m \u001b[38;5;28;01mreturn\u001b[39;00m cast(R, chat\u001b[38;5;241m.\u001b[39mlast_message\u001b[38;5;241m.\u001b[39mcontent)\n",
      "File \u001b[0;32m/opt/anaconda3/envs/openbb_agent/lib/python3.11/site-packages/magentic/chat.py:115\u001b[0m, in \u001b[0;36mChat.exec_function_call\u001b[0;34m(self)\u001b[0m\n\u001b[1;32m    113\u001b[0m \u001b[38;5;28;01mif\u001b[39;00m \u001b[38;5;28misinstance\u001b[39m(\u001b[38;5;28mself\u001b[39m\u001b[38;5;241m.\u001b[39mlast_message\u001b[38;5;241m.\u001b[39mcontent, FunctionCall):\n\u001b[1;32m    114\u001b[0m     function_call \u001b[38;5;241m=\u001b[39m \u001b[38;5;28mself\u001b[39m\u001b[38;5;241m.\u001b[39mlast_message\u001b[38;5;241m.\u001b[39mcontent\n\u001b[0;32m--> 115\u001b[0m     result \u001b[38;5;241m=\u001b[39m \u001b[43mfunction_call\u001b[49m\u001b[43m(\u001b[49m\u001b[43m)\u001b[49m\n\u001b[1;32m    116\u001b[0m     \u001b[38;5;28;01mreturn\u001b[39;00m \u001b[38;5;28mself\u001b[39m\u001b[38;5;241m.\u001b[39madd_message(\n\u001b[1;32m    117\u001b[0m         FunctionResultMessage(content\u001b[38;5;241m=\u001b[39mresult, function_call\u001b[38;5;241m=\u001b[39mfunction_call)\n\u001b[1;32m    118\u001b[0m     )\n\u001b[1;32m    120\u001b[0m \u001b[38;5;28;01mif\u001b[39;00m \u001b[38;5;28misinstance\u001b[39m(\u001b[38;5;28mself\u001b[39m\u001b[38;5;241m.\u001b[39mlast_message\u001b[38;5;241m.\u001b[39mcontent, ParallelFunctionCall):\n",
      "File \u001b[0;32m/opt/anaconda3/envs/openbb_agent/lib/python3.11/site-packages/magentic/function_call.py:45\u001b[0m, in \u001b[0;36mFunctionCall.__call__\u001b[0;34m(self)\u001b[0m\n\u001b[1;32m     44\u001b[0m \u001b[38;5;28;01mdef\u001b[39;00m \u001b[38;5;21m__call__\u001b[39m(\u001b[38;5;28mself\u001b[39m) \u001b[38;5;241m-\u001b[39m\u001b[38;5;241m>\u001b[39m T:\n\u001b[0;32m---> 45\u001b[0m     \u001b[38;5;28;01mreturn\u001b[39;00m \u001b[38;5;28;43mself\u001b[39;49m\u001b[38;5;241;43m.\u001b[39;49m\u001b[43m_function\u001b[49m\u001b[43m(\u001b[49m\u001b[38;5;241;43m*\u001b[39;49m\u001b[38;5;28;43mself\u001b[39;49m\u001b[38;5;241;43m.\u001b[39;49m\u001b[43m_args\u001b[49m\u001b[43m,\u001b[49m\u001b[43m \u001b[49m\u001b[38;5;241;43m*\u001b[39;49m\u001b[38;5;241;43m*\u001b[39;49m\u001b[38;5;28;43mself\u001b[39;49m\u001b[38;5;241;43m.\u001b[39;49m\u001b[43m_kwargs\u001b[49m\u001b[43m)\u001b[49m\n",
      "File \u001b[0;32m/opt/anaconda3/envs/openbb_agent/lib/python3.11/site-packages/openbb_core/app/static/utils/decorators.py:76\u001b[0m, in \u001b[0;36mexception_handler.<locals>.wrapper\u001b[0;34m(*f_args, **f_kwargs)\u001b[0m\n\u001b[1;32m     74\u001b[0m     error_list\u001b[38;5;241m.\u001b[39minsert(\u001b[38;5;241m0\u001b[39m, validation_error)\n\u001b[1;32m     75\u001b[0m     error_str \u001b[38;5;241m=\u001b[39m \u001b[38;5;124m\"\u001b[39m\u001b[38;5;130;01m\\n\u001b[39;00m\u001b[38;5;124m\"\u001b[39m\u001b[38;5;241m.\u001b[39mjoin(error_list)\n\u001b[0;32m---> 76\u001b[0m     \u001b[38;5;28;01mraise\u001b[39;00m OpenBBError(\u001b[38;5;124mf\u001b[39m\u001b[38;5;124m\"\u001b[39m\u001b[38;5;130;01m\\n\u001b[39;00m\u001b[38;5;124m[Error] -> \u001b[39m\u001b[38;5;132;01m{\u001b[39;00merror_str\u001b[38;5;132;01m}\u001b[39;00m\u001b[38;5;124m\"\u001b[39m)\u001b[38;5;241m.\u001b[39mwith_traceback(\n\u001b[1;32m     77\u001b[0m         tb\n\u001b[1;32m     78\u001b[0m     ) \u001b[38;5;28;01mfrom\u001b[39;00m \u001b[38;5;28;01mNone\u001b[39;00m\n\u001b[1;32m     79\u001b[0m \u001b[38;5;28;01mif\u001b[39;00m \u001b[38;5;28misinstance\u001b[39m(e, OpenBBError):\n\u001b[1;32m     80\u001b[0m     \u001b[38;5;28;01mraise\u001b[39;00m OpenBBError(\u001b[38;5;124mf\u001b[39m\u001b[38;5;124m\"\u001b[39m\u001b[38;5;130;01m\\n\u001b[39;00m\u001b[38;5;124m[Error] -> \u001b[39m\u001b[38;5;132;01m{\u001b[39;00m\u001b[38;5;28mstr\u001b[39m(e)\u001b[38;5;132;01m}\u001b[39;00m\u001b[38;5;124m\"\u001b[39m)\u001b[38;5;241m.\u001b[39mwith_traceback(tb) \u001b[38;5;28;01mfrom\u001b[39;00m \u001b[38;5;28;01mNone\u001b[39;00m\n",
      "File \u001b[0;32m/opt/anaconda3/envs/openbb_agent/lib/python3.11/site-packages/pydantic/_internal/_validate_call.py:81\u001b[0m, in \u001b[0;36mValidateCallWrapper.__call__\u001b[0;34m(self, *args, **kwargs)\u001b[0m\n\u001b[1;32m     80\u001b[0m \u001b[38;5;28;01mdef\u001b[39;00m \u001b[38;5;21m__call__\u001b[39m(\u001b[38;5;28mself\u001b[39m, \u001b[38;5;241m*\u001b[39margs: Any, \u001b[38;5;241m*\u001b[39m\u001b[38;5;241m*\u001b[39mkwargs: Any) \u001b[38;5;241m-\u001b[39m\u001b[38;5;241m>\u001b[39m Any:\n\u001b[0;32m---> 81\u001b[0m     res \u001b[38;5;241m=\u001b[39m \u001b[38;5;28mself\u001b[39m\u001b[38;5;241m.\u001b[39m__pydantic_validator__\u001b[38;5;241m.\u001b[39mvalidate_python(pydantic_core\u001b[38;5;241m.\u001b[39mArgsKwargs(args, kwargs))\n\u001b[1;32m     82\u001b[0m     \u001b[38;5;28;01mif\u001b[39;00m \u001b[38;5;28mself\u001b[39m\u001b[38;5;241m.\u001b[39m__return_pydantic_validator__:\n\u001b[1;32m     83\u001b[0m         \u001b[38;5;28;01mreturn\u001b[39;00m \u001b[38;5;28mself\u001b[39m\u001b[38;5;241m.\u001b[39m__return_pydantic_validator__(res)\n",
      "\u001b[0;31mOpenBBError\u001b[0m: \n[Error] -> 2 validations error(s)\n[Arg] 2 -> input: 1 -> Input should be a valid string\n[Arg] 3 -> input: fmp -> Input should be a valid integer, unable to parse string as an integer"
     ]
    }
   ],
   "source": [
    "r = llm(query=f\"what was the most recent price to sales ratio for stock symbol {symbol}\")\n",
    "display(Markdown(r.replace(\"$\", \"\\$\")))\n"
   ]
  },
  {
   "cell_type": "code",
   "execution_count": 111,
   "id": "1471ebdb-f3dd-4cfd-ab61-61c531c16624",
   "metadata": {},
   "outputs": [
    {
     "ename": "OpenBBError",
     "evalue": "\n[Error] -> 1 validations error(s)\n[Arg] 2 -> input: fmp -> Input should be 'annual' or 'quarter'",
     "output_type": "error",
     "traceback": [
      "\u001b[0;31m---------------------------------------------------------------------------\u001b[0m",
      "\u001b[0;31mOpenBBError\u001b[0m                               Traceback (most recent call last)",
      "Cell \u001b[0;32mIn[111], line 1\u001b[0m\n\u001b[0;32m----> 1\u001b[0m r \u001b[38;5;241m=\u001b[39m \u001b[43mllm\u001b[49m\u001b[43m(\u001b[49m\u001b[43mquery\u001b[49m\u001b[38;5;241;43m=\u001b[39;49m\u001b[38;5;124;43mf\u001b[39;49m\u001b[38;5;124;43m\"\u001b[39;49m\u001b[38;5;124;43mwhat was the most recent revenue per share for stock symbol \u001b[39;49m\u001b[38;5;132;43;01m{\u001b[39;49;00m\u001b[43msymbol\u001b[49m\u001b[38;5;132;43;01m}\u001b[39;49;00m\u001b[38;5;124;43m\"\u001b[39;49m\u001b[43m)\u001b[49m\n\u001b[1;32m      2\u001b[0m display(Markdown(r\u001b[38;5;241m.\u001b[39mreplace(\u001b[38;5;124m\"\u001b[39m\u001b[38;5;124m$\u001b[39m\u001b[38;5;124m\"\u001b[39m, \u001b[38;5;124m\"\u001b[39m\u001b[38;5;124m\\\u001b[39m\u001b[38;5;124m$\u001b[39m\u001b[38;5;124m\"\u001b[39m)))\n",
      "File \u001b[0;32m/opt/anaconda3/envs/openbb_agent/lib/python3.11/site-packages/magentic/prompt_chain.py:83\u001b[0m, in \u001b[0;36mprompt_chain.<locals>.decorator.<locals>.wrapper\u001b[0;34m(*args, **kwargs)\u001b[0m\n\u001b[1;32m     78\u001b[0m         msg \u001b[38;5;241m=\u001b[39m (\n\u001b[1;32m     79\u001b[0m             \u001b[38;5;124mf\u001b[39m\u001b[38;5;124m\"\u001b[39m\u001b[38;5;124mFunction \u001b[39m\u001b[38;5;132;01m{\u001b[39;00mfunc\u001b[38;5;241m.\u001b[39m\u001b[38;5;18m__name__\u001b[39m\u001b[38;5;132;01m}\u001b[39;00m\u001b[38;5;124m reached limit of\u001b[39m\u001b[38;5;124m\"\u001b[39m\n\u001b[1;32m     80\u001b[0m             \u001b[38;5;124mf\u001b[39m\u001b[38;5;124m\"\u001b[39m\u001b[38;5;124m \u001b[39m\u001b[38;5;132;01m{\u001b[39;00mmax_calls\u001b[38;5;132;01m}\u001b[39;00m\u001b[38;5;124m function calls\u001b[39m\u001b[38;5;124m\"\u001b[39m\n\u001b[1;32m     81\u001b[0m         )\n\u001b[1;32m     82\u001b[0m         \u001b[38;5;28;01mraise\u001b[39;00m MaxFunctionCallsError(msg)\n\u001b[0;32m---> 83\u001b[0m     chat \u001b[38;5;241m=\u001b[39m \u001b[43mchat\u001b[49m\u001b[38;5;241;43m.\u001b[39;49m\u001b[43mexec_function_call\u001b[49m\u001b[43m(\u001b[49m\u001b[43m)\u001b[49m\u001b[38;5;241m.\u001b[39msubmit()\n\u001b[1;32m     84\u001b[0m     num_calls \u001b[38;5;241m+\u001b[39m\u001b[38;5;241m=\u001b[39m \u001b[38;5;241m1\u001b[39m\n\u001b[1;32m     85\u001b[0m \u001b[38;5;28;01mreturn\u001b[39;00m cast(R, chat\u001b[38;5;241m.\u001b[39mlast_message\u001b[38;5;241m.\u001b[39mcontent)\n",
      "File \u001b[0;32m/opt/anaconda3/envs/openbb_agent/lib/python3.11/site-packages/magentic/chat.py:115\u001b[0m, in \u001b[0;36mChat.exec_function_call\u001b[0;34m(self)\u001b[0m\n\u001b[1;32m    113\u001b[0m \u001b[38;5;28;01mif\u001b[39;00m \u001b[38;5;28misinstance\u001b[39m(\u001b[38;5;28mself\u001b[39m\u001b[38;5;241m.\u001b[39mlast_message\u001b[38;5;241m.\u001b[39mcontent, FunctionCall):\n\u001b[1;32m    114\u001b[0m     function_call \u001b[38;5;241m=\u001b[39m \u001b[38;5;28mself\u001b[39m\u001b[38;5;241m.\u001b[39mlast_message\u001b[38;5;241m.\u001b[39mcontent\n\u001b[0;32m--> 115\u001b[0m     result \u001b[38;5;241m=\u001b[39m \u001b[43mfunction_call\u001b[49m\u001b[43m(\u001b[49m\u001b[43m)\u001b[49m\n\u001b[1;32m    116\u001b[0m     \u001b[38;5;28;01mreturn\u001b[39;00m \u001b[38;5;28mself\u001b[39m\u001b[38;5;241m.\u001b[39madd_message(\n\u001b[1;32m    117\u001b[0m         FunctionResultMessage(content\u001b[38;5;241m=\u001b[39mresult, function_call\u001b[38;5;241m=\u001b[39mfunction_call)\n\u001b[1;32m    118\u001b[0m     )\n\u001b[1;32m    120\u001b[0m \u001b[38;5;28;01mif\u001b[39;00m \u001b[38;5;28misinstance\u001b[39m(\u001b[38;5;28mself\u001b[39m\u001b[38;5;241m.\u001b[39mlast_message\u001b[38;5;241m.\u001b[39mcontent, ParallelFunctionCall):\n",
      "File \u001b[0;32m/opt/anaconda3/envs/openbb_agent/lib/python3.11/site-packages/magentic/function_call.py:45\u001b[0m, in \u001b[0;36mFunctionCall.__call__\u001b[0;34m(self)\u001b[0m\n\u001b[1;32m     44\u001b[0m \u001b[38;5;28;01mdef\u001b[39;00m \u001b[38;5;21m__call__\u001b[39m(\u001b[38;5;28mself\u001b[39m) \u001b[38;5;241m-\u001b[39m\u001b[38;5;241m>\u001b[39m T:\n\u001b[0;32m---> 45\u001b[0m     \u001b[38;5;28;01mreturn\u001b[39;00m \u001b[38;5;28;43mself\u001b[39;49m\u001b[38;5;241;43m.\u001b[39;49m\u001b[43m_function\u001b[49m\u001b[43m(\u001b[49m\u001b[38;5;241;43m*\u001b[39;49m\u001b[38;5;28;43mself\u001b[39;49m\u001b[38;5;241;43m.\u001b[39;49m\u001b[43m_args\u001b[49m\u001b[43m,\u001b[49m\u001b[43m \u001b[49m\u001b[38;5;241;43m*\u001b[39;49m\u001b[38;5;241;43m*\u001b[39;49m\u001b[38;5;28;43mself\u001b[39;49m\u001b[38;5;241;43m.\u001b[39;49m\u001b[43m_kwargs\u001b[49m\u001b[43m)\u001b[49m\n",
      "File \u001b[0;32m/opt/anaconda3/envs/openbb_agent/lib/python3.11/site-packages/openbb_core/app/static/utils/decorators.py:76\u001b[0m, in \u001b[0;36mexception_handler.<locals>.wrapper\u001b[0;34m(*f_args, **f_kwargs)\u001b[0m\n\u001b[1;32m     74\u001b[0m     error_list\u001b[38;5;241m.\u001b[39minsert(\u001b[38;5;241m0\u001b[39m, validation_error)\n\u001b[1;32m     75\u001b[0m     error_str \u001b[38;5;241m=\u001b[39m \u001b[38;5;124m\"\u001b[39m\u001b[38;5;130;01m\\n\u001b[39;00m\u001b[38;5;124m\"\u001b[39m\u001b[38;5;241m.\u001b[39mjoin(error_list)\n\u001b[0;32m---> 76\u001b[0m     \u001b[38;5;28;01mraise\u001b[39;00m OpenBBError(\u001b[38;5;124mf\u001b[39m\u001b[38;5;124m\"\u001b[39m\u001b[38;5;130;01m\\n\u001b[39;00m\u001b[38;5;124m[Error] -> \u001b[39m\u001b[38;5;132;01m{\u001b[39;00merror_str\u001b[38;5;132;01m}\u001b[39;00m\u001b[38;5;124m\"\u001b[39m)\u001b[38;5;241m.\u001b[39mwith_traceback(\n\u001b[1;32m     77\u001b[0m         tb\n\u001b[1;32m     78\u001b[0m     ) \u001b[38;5;28;01mfrom\u001b[39;00m \u001b[38;5;28;01mNone\u001b[39;00m\n\u001b[1;32m     79\u001b[0m \u001b[38;5;28;01mif\u001b[39;00m \u001b[38;5;28misinstance\u001b[39m(e, OpenBBError):\n\u001b[1;32m     80\u001b[0m     \u001b[38;5;28;01mraise\u001b[39;00m OpenBBError(\u001b[38;5;124mf\u001b[39m\u001b[38;5;124m\"\u001b[39m\u001b[38;5;130;01m\\n\u001b[39;00m\u001b[38;5;124m[Error] -> \u001b[39m\u001b[38;5;132;01m{\u001b[39;00m\u001b[38;5;28mstr\u001b[39m(e)\u001b[38;5;132;01m}\u001b[39;00m\u001b[38;5;124m\"\u001b[39m)\u001b[38;5;241m.\u001b[39mwith_traceback(tb) \u001b[38;5;28;01mfrom\u001b[39;00m \u001b[38;5;28;01mNone\u001b[39;00m\n",
      "File \u001b[0;32m/opt/anaconda3/envs/openbb_agent/lib/python3.11/site-packages/pydantic/_internal/_validate_call.py:81\u001b[0m, in \u001b[0;36mValidateCallWrapper.__call__\u001b[0;34m(self, *args, **kwargs)\u001b[0m\n\u001b[1;32m     80\u001b[0m \u001b[38;5;28;01mdef\u001b[39;00m \u001b[38;5;21m__call__\u001b[39m(\u001b[38;5;28mself\u001b[39m, \u001b[38;5;241m*\u001b[39margs: Any, \u001b[38;5;241m*\u001b[39m\u001b[38;5;241m*\u001b[39mkwargs: Any) \u001b[38;5;241m-\u001b[39m\u001b[38;5;241m>\u001b[39m Any:\n\u001b[0;32m---> 81\u001b[0m     res \u001b[38;5;241m=\u001b[39m \u001b[38;5;28mself\u001b[39m\u001b[38;5;241m.\u001b[39m__pydantic_validator__\u001b[38;5;241m.\u001b[39mvalidate_python(pydantic_core\u001b[38;5;241m.\u001b[39mArgsKwargs(args, kwargs))\n\u001b[1;32m     82\u001b[0m     \u001b[38;5;28;01mif\u001b[39;00m \u001b[38;5;28mself\u001b[39m\u001b[38;5;241m.\u001b[39m__return_pydantic_validator__:\n\u001b[1;32m     83\u001b[0m         \u001b[38;5;28;01mreturn\u001b[39;00m \u001b[38;5;28mself\u001b[39m\u001b[38;5;241m.\u001b[39m__return_pydantic_validator__(res)\n",
      "\u001b[0;31mOpenBBError\u001b[0m: \n[Error] -> 1 validations error(s)\n[Arg] 2 -> input: fmp -> Input should be 'annual' or 'quarter'"
     ]
    }
   ],
   "source": [
    "r = llm(query=f\"what was the most recent revenue per share for stock symbol {symbol}\")\n",
    "display(Markdown(r.replace(\"$\", \"\\$\")))\n"
   ]
  },
  {
   "cell_type": "code",
   "execution_count": 117,
   "id": "d94c70ca-2285-4676-8d91-f6fce3c3a491",
   "metadata": {},
   "outputs": [
    {
     "ename": "OpenBBError",
     "evalue": "\n[Error] -> 1 validations error(s)\n[Arg] start_date -> input: nasdaq -> Input should be a valid date or datetime, input is too short",
     "output_type": "error",
     "traceback": [
      "\u001b[0;31m---------------------------------------------------------------------------\u001b[0m",
      "\u001b[0;31mOpenBBError\u001b[0m                               Traceback (most recent call last)",
      "Cell \u001b[0;32mIn[117], line 1\u001b[0m\n\u001b[0;32m----> 1\u001b[0m r \u001b[38;5;241m=\u001b[39m \u001b[43mllm\u001b[49m\u001b[43m(\u001b[49m\u001b[43mquery\u001b[49m\u001b[38;5;241;43m=\u001b[39;49m\u001b[38;5;124;43mf\u001b[39;49m\u001b[38;5;124;43m\"\u001b[39;49m\u001b[38;5;124;43mwhat was the latest dividend data for stock symbol \u001b[39;49m\u001b[38;5;132;43;01m{\u001b[39;49;00m\u001b[43msymbol\u001b[49m\u001b[38;5;132;43;01m}\u001b[39;49;00m\u001b[38;5;124;43m\"\u001b[39;49m\u001b[43m)\u001b[49m\n\u001b[1;32m      2\u001b[0m display(Markdown(r\u001b[38;5;241m.\u001b[39mreplace(\u001b[38;5;124m\"\u001b[39m\u001b[38;5;124m$\u001b[39m\u001b[38;5;124m\"\u001b[39m, \u001b[38;5;124m\"\u001b[39m\u001b[38;5;124m\\\u001b[39m\u001b[38;5;124m$\u001b[39m\u001b[38;5;124m\"\u001b[39m)))\n",
      "File \u001b[0;32m/opt/anaconda3/envs/openbb_agent/lib/python3.11/site-packages/magentic/prompt_chain.py:83\u001b[0m, in \u001b[0;36mprompt_chain.<locals>.decorator.<locals>.wrapper\u001b[0;34m(*args, **kwargs)\u001b[0m\n\u001b[1;32m     78\u001b[0m         msg \u001b[38;5;241m=\u001b[39m (\n\u001b[1;32m     79\u001b[0m             \u001b[38;5;124mf\u001b[39m\u001b[38;5;124m\"\u001b[39m\u001b[38;5;124mFunction \u001b[39m\u001b[38;5;132;01m{\u001b[39;00mfunc\u001b[38;5;241m.\u001b[39m\u001b[38;5;18m__name__\u001b[39m\u001b[38;5;132;01m}\u001b[39;00m\u001b[38;5;124m reached limit of\u001b[39m\u001b[38;5;124m\"\u001b[39m\n\u001b[1;32m     80\u001b[0m             \u001b[38;5;124mf\u001b[39m\u001b[38;5;124m\"\u001b[39m\u001b[38;5;124m \u001b[39m\u001b[38;5;132;01m{\u001b[39;00mmax_calls\u001b[38;5;132;01m}\u001b[39;00m\u001b[38;5;124m function calls\u001b[39m\u001b[38;5;124m\"\u001b[39m\n\u001b[1;32m     81\u001b[0m         )\n\u001b[1;32m     82\u001b[0m         \u001b[38;5;28;01mraise\u001b[39;00m MaxFunctionCallsError(msg)\n\u001b[0;32m---> 83\u001b[0m     chat \u001b[38;5;241m=\u001b[39m \u001b[43mchat\u001b[49m\u001b[38;5;241;43m.\u001b[39;49m\u001b[43mexec_function_call\u001b[49m\u001b[43m(\u001b[49m\u001b[43m)\u001b[49m\u001b[38;5;241m.\u001b[39msubmit()\n\u001b[1;32m     84\u001b[0m     num_calls \u001b[38;5;241m+\u001b[39m\u001b[38;5;241m=\u001b[39m \u001b[38;5;241m1\u001b[39m\n\u001b[1;32m     85\u001b[0m \u001b[38;5;28;01mreturn\u001b[39;00m cast(R, chat\u001b[38;5;241m.\u001b[39mlast_message\u001b[38;5;241m.\u001b[39mcontent)\n",
      "File \u001b[0;32m/opt/anaconda3/envs/openbb_agent/lib/python3.11/site-packages/magentic/chat.py:115\u001b[0m, in \u001b[0;36mChat.exec_function_call\u001b[0;34m(self)\u001b[0m\n\u001b[1;32m    113\u001b[0m \u001b[38;5;28;01mif\u001b[39;00m \u001b[38;5;28misinstance\u001b[39m(\u001b[38;5;28mself\u001b[39m\u001b[38;5;241m.\u001b[39mlast_message\u001b[38;5;241m.\u001b[39mcontent, FunctionCall):\n\u001b[1;32m    114\u001b[0m     function_call \u001b[38;5;241m=\u001b[39m \u001b[38;5;28mself\u001b[39m\u001b[38;5;241m.\u001b[39mlast_message\u001b[38;5;241m.\u001b[39mcontent\n\u001b[0;32m--> 115\u001b[0m     result \u001b[38;5;241m=\u001b[39m \u001b[43mfunction_call\u001b[49m\u001b[43m(\u001b[49m\u001b[43m)\u001b[49m\n\u001b[1;32m    116\u001b[0m     \u001b[38;5;28;01mreturn\u001b[39;00m \u001b[38;5;28mself\u001b[39m\u001b[38;5;241m.\u001b[39madd_message(\n\u001b[1;32m    117\u001b[0m         FunctionResultMessage(content\u001b[38;5;241m=\u001b[39mresult, function_call\u001b[38;5;241m=\u001b[39mfunction_call)\n\u001b[1;32m    118\u001b[0m     )\n\u001b[1;32m    120\u001b[0m \u001b[38;5;28;01mif\u001b[39;00m \u001b[38;5;28misinstance\u001b[39m(\u001b[38;5;28mself\u001b[39m\u001b[38;5;241m.\u001b[39mlast_message\u001b[38;5;241m.\u001b[39mcontent, ParallelFunctionCall):\n",
      "File \u001b[0;32m/opt/anaconda3/envs/openbb_agent/lib/python3.11/site-packages/magentic/function_call.py:45\u001b[0m, in \u001b[0;36mFunctionCall.__call__\u001b[0;34m(self)\u001b[0m\n\u001b[1;32m     44\u001b[0m \u001b[38;5;28;01mdef\u001b[39;00m \u001b[38;5;21m__call__\u001b[39m(\u001b[38;5;28mself\u001b[39m) \u001b[38;5;241m-\u001b[39m\u001b[38;5;241m>\u001b[39m T:\n\u001b[0;32m---> 45\u001b[0m     \u001b[38;5;28;01mreturn\u001b[39;00m \u001b[38;5;28;43mself\u001b[39;49m\u001b[38;5;241;43m.\u001b[39;49m\u001b[43m_function\u001b[49m\u001b[43m(\u001b[49m\u001b[38;5;241;43m*\u001b[39;49m\u001b[38;5;28;43mself\u001b[39;49m\u001b[38;5;241;43m.\u001b[39;49m\u001b[43m_args\u001b[49m\u001b[43m,\u001b[49m\u001b[43m \u001b[49m\u001b[38;5;241;43m*\u001b[39;49m\u001b[38;5;241;43m*\u001b[39;49m\u001b[38;5;28;43mself\u001b[39;49m\u001b[38;5;241;43m.\u001b[39;49m\u001b[43m_kwargs\u001b[49m\u001b[43m)\u001b[49m\n",
      "File \u001b[0;32m/opt/anaconda3/envs/openbb_agent/lib/python3.11/site-packages/openbb_core/app/static/utils/decorators.py:76\u001b[0m, in \u001b[0;36mexception_handler.<locals>.wrapper\u001b[0;34m(*f_args, **f_kwargs)\u001b[0m\n\u001b[1;32m     74\u001b[0m     error_list\u001b[38;5;241m.\u001b[39minsert(\u001b[38;5;241m0\u001b[39m, validation_error)\n\u001b[1;32m     75\u001b[0m     error_str \u001b[38;5;241m=\u001b[39m \u001b[38;5;124m\"\u001b[39m\u001b[38;5;130;01m\\n\u001b[39;00m\u001b[38;5;124m\"\u001b[39m\u001b[38;5;241m.\u001b[39mjoin(error_list)\n\u001b[0;32m---> 76\u001b[0m     \u001b[38;5;28;01mraise\u001b[39;00m OpenBBError(\u001b[38;5;124mf\u001b[39m\u001b[38;5;124m\"\u001b[39m\u001b[38;5;130;01m\\n\u001b[39;00m\u001b[38;5;124m[Error] -> \u001b[39m\u001b[38;5;132;01m{\u001b[39;00merror_str\u001b[38;5;132;01m}\u001b[39;00m\u001b[38;5;124m\"\u001b[39m)\u001b[38;5;241m.\u001b[39mwith_traceback(\n\u001b[1;32m     77\u001b[0m         tb\n\u001b[1;32m     78\u001b[0m     ) \u001b[38;5;28;01mfrom\u001b[39;00m \u001b[38;5;28;01mNone\u001b[39;00m\n\u001b[1;32m     79\u001b[0m \u001b[38;5;28;01mif\u001b[39;00m \u001b[38;5;28misinstance\u001b[39m(e, OpenBBError):\n\u001b[1;32m     80\u001b[0m     \u001b[38;5;28;01mraise\u001b[39;00m OpenBBError(\u001b[38;5;124mf\u001b[39m\u001b[38;5;124m\"\u001b[39m\u001b[38;5;130;01m\\n\u001b[39;00m\u001b[38;5;124m[Error] -> \u001b[39m\u001b[38;5;132;01m{\u001b[39;00m\u001b[38;5;28mstr\u001b[39m(e)\u001b[38;5;132;01m}\u001b[39;00m\u001b[38;5;124m\"\u001b[39m)\u001b[38;5;241m.\u001b[39mwith_traceback(tb) \u001b[38;5;28;01mfrom\u001b[39;00m \u001b[38;5;28;01mNone\u001b[39;00m\n",
      "File \u001b[0;32m/opt/anaconda3/envs/openbb_agent/lib/python3.11/site-packages/pydantic/main.py:176\u001b[0m, in \u001b[0;36mBaseModel.__init__\u001b[0;34m(self, **data)\u001b[0m\n\u001b[1;32m    174\u001b[0m \u001b[38;5;66;03m# `__tracebackhide__` tells pytest and some other tools to omit this function from tracebacks\u001b[39;00m\n\u001b[1;32m    175\u001b[0m __tracebackhide__ \u001b[38;5;241m=\u001b[39m \u001b[38;5;28;01mTrue\u001b[39;00m\n\u001b[0;32m--> 176\u001b[0m \u001b[38;5;28;43mself\u001b[39;49m\u001b[38;5;241;43m.\u001b[39;49m\u001b[43m__pydantic_validator__\u001b[49m\u001b[38;5;241;43m.\u001b[39;49m\u001b[43mvalidate_python\u001b[49m\u001b[43m(\u001b[49m\u001b[43mdata\u001b[49m\u001b[43m,\u001b[49m\u001b[43m \u001b[49m\u001b[43mself_instance\u001b[49m\u001b[38;5;241;43m=\u001b[39;49m\u001b[38;5;28;43mself\u001b[39;49m\u001b[43m)\u001b[49m\n",
      "\u001b[0;31mOpenBBError\u001b[0m: \n[Error] -> 1 validations error(s)\n[Arg] start_date -> input: nasdaq -> Input should be a valid date or datetime, input is too short"
     ]
    }
   ],
   "source": [
    "r = llm(query=f\"what was the latest dividend data for stock symbol {symbol}\")\n",
    "display(Markdown(r.replace(\"$\", \"\\$\")))\n"
   ]
  },
  {
   "cell_type": "code",
   "execution_count": 116,
   "id": "d6ea54fe-b064-4db1-a776-2e585d434355",
   "metadata": {},
   "outputs": [
    {
     "data": {
      "text/markdown": [
       "At the end of 2023, the dividend data for Merck & Co., Inc. (MRK) was as follows:\n",
       "\n",
       "- **Ex-Dividend Date:** March 14, 2024\n",
       "- **Amount:** \\$0.77 per share\n",
       "- **Adjusted Dividend:** \\$0.77 per share\n",
       "- **Record Date:** March 15, 2024\n",
       "- **Payment Date:** April 5, 2024\n",
       "- **Declaration Date:** January 23, 2024\n",
       "\n",
       "This implies that the dividend was declared at the beginning of 2024 and scheduled for payment in April 2024."
      ],
      "text/plain": [
       "<IPython.core.display.Markdown object>"
      ]
     },
     "metadata": {},
     "output_type": "display_data"
    }
   ],
   "source": [
    "r = llm(query=f\"what was the dividend data at the end of 2023 for stock symbol {symbol}\")\n",
    "display(Markdown(r.replace(\"$\", \"\\$\")))\n"
   ]
  },
  {
   "cell_type": "code",
   "execution_count": 119,
   "id": "8bbb38b2-cb78-485b-9737-cdccb8ff6152",
   "metadata": {},
   "outputs": [
    {
     "data": {
      "text/markdown": [
       "The trailing dividend yield for the stock symbol MRK (Merck & Co., Inc.) as of the end of 2023 was:\n",
       "\n",
       "- **December 29, 2023:** 2.715%\n",
       "\n",
       "Is there anything else you would like to know?"
      ],
      "text/plain": [
       "<IPython.core.display.Markdown object>"
      ]
     },
     "metadata": {},
     "output_type": "display_data"
    }
   ],
   "source": [
    "r = llm(query=f\"what was the dividend yield for stock symbol {symbol} as of the end of 2023?\")\n",
    "display(Markdown(r.replace(\"$\", \"\\$\")))\n"
   ]
  },
  {
   "cell_type": "code",
   "execution_count": 123,
   "id": "4c654b1d-3b33-42b2-848c-cd501889e0b5",
   "metadata": {},
   "outputs": [
    {
     "data": {
      "text/markdown": [
       "To evaluate the performance of Merck & Co., Inc. (MRK) over the past year, I would typically look at stock price data, including the opening price from one year ago and the current price, to compute the performance. However, I currently have data on the equity exposure of MRK across various ETFs, indicating its significant presence in multiple funds.\n",
       "\n",
       "If you're seeking stock performance information, I recommend checking stock charts or financial news websites for MRK.\n",
       "\n",
       "Would you like me to provide help with a specific aspect of the MRK stock data, or should I assist you with something else?"
      ],
      "text/plain": [
       "<IPython.core.display.Markdown object>"
      ]
     },
     "metadata": {},
     "output_type": "display_data"
    }
   ],
   "source": [
    "r = llm(query=f\"what was the performance for symbol MRK from 1 year ago?\")\n",
    "display(Markdown(r.replace(\"$\", \"\\$\")))\n"
   ]
  },
  {
   "cell_type": "code",
   "execution_count": 125,
   "id": "cd623c82-677f-48cb-8742-954302782cad",
   "metadata": {},
   "outputs": [
    {
     "data": {
      "text/markdown": [
       "The ETF with the highest weight in MRK (Merck & Co., Inc.) is:\n",
       "\n",
       "**XLV - Health Care Select Sector SPDR Fund** with a weight of 6.01%."
      ],
      "text/plain": [
       "<IPython.core.display.Markdown object>"
      ]
     },
     "metadata": {},
     "output_type": "display_data"
    }
   ],
   "source": [
    "r = llm(query=f\"which ETF has the highest weight in symbol MRK?\")\n",
    "display(Markdown(r.replace(\"$\", \"\\$\")))\n"
   ]
  },
  {
   "cell_type": "code",
   "execution_count": null,
   "id": "0606b26a-3435-488d-a519-d8754a09d910",
   "metadata": {},
   "outputs": [],
   "source": []
  }
 ],
 "metadata": {
  "kernelspec": {
   "display_name": "openbb_agent",
   "language": "python",
   "name": "openbb_agent"
  },
  "language_info": {
   "codemirror_mode": {
    "name": "ipython",
    "version": 3
   },
   "file_extension": ".py",
   "mimetype": "text/x-python",
   "name": "python",
   "nbconvert_exporter": "python",
   "pygments_lexer": "ipython3",
   "version": "3.11.9"
  }
 },
 "nbformat": 4,
 "nbformat_minor": 5
}
